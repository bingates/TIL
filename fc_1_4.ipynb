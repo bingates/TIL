{
 "cells": [
  {
   "cell_type": "code",
   "execution_count": 1,
   "metadata": {},
   "outputs": [
    {
     "data": {
      "text/plain": [
       "[1, 2, 3, 4]"
      ]
     },
     "execution_count": 1,
     "metadata": {},
     "output_type": "execute_result"
    }
   ],
   "source": [
    "test_list = [1\\\n",
    "             ,2\\\n",
    "             ,3,4]\n",
    "\n",
    "test_list"
   ]
  },
  {
   "cell_type": "code",
   "execution_count": null,
   "metadata": {},
   "outputs": [],
   "source": [
    "f_list = [\"a\" if _i % 15 ==0 else _i \"\"]"
   ]
  },
  {
   "cell_type": "code",
   "execution_count": 2,
   "metadata": {},
   "outputs": [
    {
     "data": {
      "text/plain": [
       "True"
      ]
     },
     "execution_count": 2,
     "metadata": {},
     "output_type": "execute_result"
    }
   ],
   "source": [
    "not 3 % 3"
   ]
  },
  {
   "cell_type": "code",
   "execution_count": 3,
   "metadata": {},
   "outputs": [
    {
     "data": {
      "text/plain": [
       "''"
      ]
     },
     "execution_count": 3,
     "metadata": {},
     "output_type": "execute_result"
    }
   ],
   "source": [
    "\"fizz\" * False"
   ]
  },
  {
   "cell_type": "code",
   "execution_count": 4,
   "metadata": {},
   "outputs": [
    {
     "data": {
      "text/plain": [
       "'fizz'"
      ]
     },
     "execution_count": 4,
     "metadata": {},
     "output_type": "execute_result"
    }
   ],
   "source": [
    "\"fizz\" * True"
   ]
  },
  {
   "cell_type": "code",
   "execution_count": 5,
   "metadata": {},
   "outputs": [
    {
     "data": {
      "text/plain": [
       "'fizzbuzz'"
      ]
     },
     "execution_count": 5,
     "metadata": {},
     "output_type": "execute_result"
    }
   ],
   "source": [
    "\"fizz\" + \"buzz\""
   ]
  },
  {
   "cell_type": "code",
   "execution_count": 7,
   "metadata": {},
   "outputs": [
    {
     "data": {
      "text/plain": [
       "1"
      ]
     },
     "execution_count": 7,
     "metadata": {},
     "output_type": "execute_result"
    }
   ],
   "source": [
    "'' or 1"
   ]
  },
  {
   "cell_type": "code",
   "execution_count": 10,
   "metadata": {},
   "outputs": [],
   "source": [
    "# ['fizz'*(not i%3) + 'buzz'*(not i%5) or i for i in range(1,100+1)]"
   ]
  },
  {
   "cell_type": "markdown",
   "metadata": {},
   "source": [
    "## FILE I/O"
   ]
  },
  {
   "cell_type": "code",
   "execution_count": 17,
   "metadata": {},
   "outputs": [],
   "source": [
    "f = open('./sample.txt', 'w') # w(write mode), a(append mode), r(read mode)\n",
    "f.write('Hi\\n')\n",
    "f.write('Hello again\\n')\n",
    "f.close()"
   ]
  },
  {
   "cell_type": "code",
   "execution_count": 18,
   "metadata": {},
   "outputs": [],
   "source": [
    "f = open('./sample.txt', 'a')\n",
    "for _i in range(101,120+1):\n",
    "    f.write('This is line no.{}.\\n'.format(_i))\n",
    "f.close()"
   ]
  },
  {
   "cell_type": "code",
   "execution_count": 58,
   "metadata": {},
   "outputs": [
    {
     "name": "stdout",
     "output_type": "stream",
     "text": [
      "Hi\n",
      "\n"
     ]
    }
   ],
   "source": [
    "f = open('./sample.txt', 'r')\n",
    "test = f.readline()\n",
    "print(test)\n",
    "\n",
    "while True:\n",
    "    text = f.readline()\n",
    "    if not text:\n",
    "        break\n",
    "     print(text)\n",
    "f.close()"
   ]
  },
  {
   "cell_type": "code",
   "execution_count": 26,
   "metadata": {},
   "outputs": [
    {
     "name": "stdout",
     "output_type": "stream",
     "text": [
      "['Hi\\n', 'Hello again\\n', 'This is line no.101.\\n', 'This is line no.102.\\n', 'This is line no.103.\\n', 'This is line no.104.\\n', 'This is line no.105.\\n', 'This is line no.106.\\n', 'This is line no.107.\\n', 'This is line no.108.\\n', 'This is line no.109.\\n', 'This is line no.110.\\n', 'This is line no.111.\\n', 'This is line no.112.\\n', 'This is line no.113.\\n', 'This is line no.114.\\n', 'This is line no.115.\\n', 'This is line no.116.\\n', 'This is line no.117.\\n', 'This is line no.118.\\n', 'This is line no.119.\\n', 'This is line no.120.\\n']\n"
     ]
    }
   ],
   "source": [
    "f = open('./sample.txt', 'r')\n",
    "texts = f.readlines()\n",
    "print(texts)\n",
    "f.close()"
   ]
  },
  {
   "cell_type": "code",
   "execution_count": 59,
   "metadata": {},
   "outputs": [
    {
     "ename": "SyntaxError",
     "evalue": "unexpected EOF while parsing (<ipython-input-59-eed95800a82e>, line 6)",
     "output_type": "error",
     "traceback": [
      "\u001b[0;36m  File \u001b[0;32m\"<ipython-input-59-eed95800a82e>\"\u001b[0;36m, line \u001b[0;32m6\u001b[0m\n\u001b[0;31m    #         print(text)\u001b[0m\n\u001b[0m                         ^\u001b[0m\n\u001b[0;31mSyntaxError\u001b[0m\u001b[0;31m:\u001b[0m unexpected EOF while parsing\n"
     ]
    }
   ],
   "source": [
    "# f.close() 가 없음 -> with 구문\n",
    "\n",
    "with open('./sample.txt', 'r') as f: # f = open() f.close()\n",
    "    texts = f.readlines()\n",
    "    for text in texts:\n",
    "         print(text)"
   ]
  },
  {
   "cell_type": "code",
   "execution_count": 48,
   "metadata": {},
   "outputs": [],
   "source": [
    "# name, locale, lang\n",
    "# 김패캠, Seoul, Python\n",
    "# 박패캠, Busan, CPP\n",
    "\n",
    "infos = (('김패캠','Seoul','Python'),('박패캠','Busan','CPP'))\n",
    "\n",
    "with open('./users.csv','w') as f:\n",
    "    for _i in infos:\n",
    "        f.write(_i[0])\n",
    "        for _k in _i[1:]:\n",
    "            f.write(','+_k)\n",
    "        f.write('\\n')\n",
    "    "
   ]
  },
  {
   "cell_type": "code",
   "execution_count": 53,
   "metadata": {},
   "outputs": [
    {
     "name": "stdout",
     "output_type": "stream",
     "text": [
      "['김패캠', 'Seoul', 'Python']\n",
      "['박패캠', 'Busan', 'CPP']\n"
     ]
    }
   ],
   "source": [
    "with open('./users.csv', 'r') as f:\n",
    "    texts = f.readlines()\n",
    "    for text in texts:\n",
    "        print(text.replace('\\n','').split(','))"
   ]
  },
  {
   "cell_type": "code",
   "execution_count": 50,
   "metadata": {},
   "outputs": [],
   "source": [
    "# w(write mode), a(append mode), r(read mode)\n",
    "# wb(write binary mode), ab(append binary mode), rb(read binary mode)"
   ]
  },
  {
   "cell_type": "markdown",
   "metadata": {},
   "source": [
    "## Error Handle"
   ]
  },
  {
   "cell_type": "code",
   "execution_count": 56,
   "metadata": {},
   "outputs": [
    {
     "name": "stdout",
     "output_type": "stream",
     "text": [
      "age? dd\n",
      "I said NUMBER!!\n",
      "age? ddd\n",
      "I said NUMBER!!\n",
      "age? dd\n",
      "I said NUMBER!!\n",
      "age? 1\n"
     ]
    }
   ],
   "source": [
    "while True:\n",
    "    try:\n",
    "        some_num = int(input(\"age? \"))\n",
    "        break\n",
    "    except ValueError:\n",
    "        print(\"I said NUMBER!!\")"
   ]
  },
  {
   "cell_type": "code",
   "execution_count": 57,
   "metadata": {},
   "outputs": [
    {
     "name": "stdout",
     "output_type": "stream",
     "text": [
      "age? ee\n",
      "I said NUMBER!!\n",
      "age? eee\n",
      "I said NUMBER!!\n",
      "age? 3\n"
     ]
    }
   ],
   "source": [
    "def get_num():\n",
    "    try:\n",
    "        some_num = int(input(\"age? \"))\n",
    "    except ValueError:\n",
    "        print(\"I said NUMBER!!\")\n",
    "        get_num()\n",
    "        \n",
    "get_num()"
   ]
  },
  {
   "cell_type": "code",
   "execution_count": 61,
   "metadata": {},
   "outputs": [
    {
     "name": "stdout",
     "output_type": "stream",
     "text": [
      "not file\n"
     ]
    }
   ],
   "source": [
    "try:\n",
    "    f = open('./existance.txt', 'r')\n",
    "except FileNotFoundError:\n",
    "    print(\"not file\")"
   ]
  },
  {
   "cell_type": "code",
   "execution_count": null,
   "metadata": {},
   "outputs": [],
   "source": []
  }
 ],
 "metadata": {
  "kernelspec": {
   "display_name": "Python 3",
   "language": "python",
   "name": "python3"
  },
  "language_info": {
   "codemirror_mode": {
    "name": "ipython",
    "version": 3
   },
   "file_extension": ".py",
   "mimetype": "text/x-python",
   "name": "python",
   "nbconvert_exporter": "python",
   "pygments_lexer": "ipython3",
   "version": "3.6.5"
  }
 },
 "nbformat": 4,
 "nbformat_minor": 2
}
