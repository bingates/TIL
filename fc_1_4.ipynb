{
 "cells": [
  {
   "cell_type": "code",
   "execution_count": 1,
   "metadata": {},
   "outputs": [
    {
     "data": {
      "text/plain": [
       "[1, 2, 3, 4]"
      ]
     },
     "execution_count": 1,
     "metadata": {},
     "output_type": "execute_result"
    }
   ],
   "source": [
    "test_list = [1\\\n",
    "             ,2\\\n",
    "             ,3,4]\n",
    "\n",
    "test_list"
   ]
  },
  {
   "cell_type": "code",
   "execution_count": null,
   "metadata": {},
   "outputs": [],
   "source": [
    "f_list = [\"a\" if _i % 15 ==0 else _i \"\"]"
   ]
  },
  {
   "cell_type": "code",
   "execution_count": 2,
   "metadata": {},
   "outputs": [
    {
     "data": {
      "text/plain": [
       "True"
      ]
     },
     "execution_count": 2,
     "metadata": {},
     "output_type": "execute_result"
    }
   ],
   "source": [
    "not 3 % 3"
   ]
  },
  {
   "cell_type": "code",
   "execution_count": 3,
   "metadata": {},
   "outputs": [
    {
     "data": {
      "text/plain": [
       "''"
      ]
     },
     "execution_count": 3,
     "metadata": {},
     "output_type": "execute_result"
    }
   ],
   "source": [
    "\"fizz\" * False"
   ]
  },
  {
   "cell_type": "code",
   "execution_count": 4,
   "metadata": {},
   "outputs": [
    {
     "data": {
      "text/plain": [
       "'fizz'"
      ]
     },
     "execution_count": 4,
     "metadata": {},
     "output_type": "execute_result"
    }
   ],
   "source": [
    "\"fizz\" * True"
   ]
  },
  {
   "cell_type": "code",
   "execution_count": 5,
   "metadata": {},
   "outputs": [
    {
     "data": {
      "text/plain": [
       "'fizzbuzz'"
      ]
     },
     "execution_count": 5,
     "metadata": {},
     "output_type": "execute_result"
    }
   ],
   "source": [
    "\"fizz\" + \"buzz\""
   ]
  },
  {
   "cell_type": "code",
   "execution_count": 7,
   "metadata": {},
   "outputs": [
    {
     "data": {
      "text/plain": [
       "1"
      ]
     },
     "execution_count": 7,
     "metadata": {},
     "output_type": "execute_result"
    }
   ],
   "source": [
    "'' or 1"
   ]
  },
  {
   "cell_type": "code",
   "execution_count": 10,
   "metadata": {},
   "outputs": [],
   "source": [
    "# ['fizz'*(not i%3) + 'buzz'*(not i%5) or i for i in range(1,100+1)]"
   ]
  },
  {
   "cell_type": "markdown",
   "metadata": {},
   "source": [
    "## FILE I/O"
   ]
  },
  {
   "cell_type": "code",
   "execution_count": 17,
   "metadata": {},
   "outputs": [],
   "source": [
    "f = open('./sample.txt', 'w') # w(write mode), a(append mode), r(read mode)\n",
    "f.write('Hi\\n')\n",
    "f.write('Hello again\\n')\n",
    "f.close()"
   ]
  },
  {
   "cell_type": "code",
   "execution_count": 18,
   "metadata": {},
   "outputs": [],
   "source": [
    "f = open('./sample.txt', 'a')\n",
    "for _i in range(101,120+1):\n",
    "    f.write('This is line no.{}.\\n'.format(_i))\n",
    "f.close()"
   ]
  },
  {
   "cell_type": "code",
   "execution_count": 58,
   "metadata": {},
   "outputs": [
    {
     "name": "stdout",
     "output_type": "stream",
     "text": [
      "Hi\n",
      "\n"
     ]
    }
   ],
   "source": [
    "f = open('./sample.txt', 'r')\n",
    "test = f.readline()\n",
    "print(test)\n",
    "\n",
    "while True:\n",
    "    text = f.readline()\n",
    "    if not text:\n",
    "        break\n",
    "     print(text)\n",
    "f.close()"
   ]
  },
  {
   "cell_type": "code",
   "execution_count": 26,
   "metadata": {},
   "outputs": [
    {
     "name": "stdout",
     "output_type": "stream",
     "text": [
      "['Hi\\n', 'Hello again\\n', 'This is line no.101.\\n', 'This is line no.102.\\n', 'This is line no.103.\\n', 'This is line no.104.\\n', 'This is line no.105.\\n', 'This is line no.106.\\n', 'This is line no.107.\\n', 'This is line no.108.\\n', 'This is line no.109.\\n', 'This is line no.110.\\n', 'This is line no.111.\\n', 'This is line no.112.\\n', 'This is line no.113.\\n', 'This is line no.114.\\n', 'This is line no.115.\\n', 'This is line no.116.\\n', 'This is line no.117.\\n', 'This is line no.118.\\n', 'This is line no.119.\\n', 'This is line no.120.\\n']\n"
     ]
    }
   ],
   "source": [
    "f = open('./sample.txt', 'r')\n",
    "texts = f.readlines()\n",
    "print(texts)\n",
    "f.close()"
   ]
  },
  {
   "cell_type": "code",
   "execution_count": 59,
   "metadata": {},
   "outputs": [
    {
     "ename": "SyntaxError",
     "evalue": "unexpected EOF while parsing (<ipython-input-59-eed95800a82e>, line 6)",
     "output_type": "error",
     "traceback": [
      "\u001b[0;36m  File \u001b[0;32m\"<ipython-input-59-eed95800a82e>\"\u001b[0;36m, line \u001b[0;32m6\u001b[0m\n\u001b[0;31m    #         print(text)\u001b[0m\n\u001b[0m                         ^\u001b[0m\n\u001b[0;31mSyntaxError\u001b[0m\u001b[0;31m:\u001b[0m unexpected EOF while parsing\n"
     ]
    }
   ],
   "source": [
    "# f.close() 가 없음 -> with 구문\n",
    "\n",
    "with open('./sample.txt', 'r') as f: # f = open() f.close()\n",
    "    texts = f.readlines()\n",
    "    for text in texts:\n",
    "         print(text)"
   ]
  },
  {
   "cell_type": "code",
   "execution_count": 48,
   "metadata": {},
   "outputs": [],
   "source": [
    "# name, locale, lang\n",
    "# 김패캠, Seoul, Python\n",
    "# 박패캠, Busan, CPP\n",
    "\n",
    "infos = (('김패캠','Seoul','Python'),('박패캠','Busan','CPP'))\n",
    "\n",
    "with open('./users.csv','w') as f:\n",
    "    for _i in infos:\n",
    "        f.write(_i[0])\n",
    "        for _k in _i[1:]:\n",
    "            f.write(','+_k)\n",
    "        f.write('\\n')\n",
    "    "
   ]
  },
  {
   "cell_type": "code",
   "execution_count": 53,
   "metadata": {},
   "outputs": [
    {
     "name": "stdout",
     "output_type": "stream",
     "text": [
      "['김패캠', 'Seoul', 'Python']\n",
      "['박패캠', 'Busan', 'CPP']\n"
     ]
    }
   ],
   "source": [
    "with open('./users.csv', 'r') as f:\n",
    "    texts = f.readlines()\n",
    "    for text in texts:\n",
    "        print(text.replace('\\n','').split(','))"
   ]
  },
  {
   "cell_type": "code",
   "execution_count": 50,
   "metadata": {},
   "outputs": [],
   "source": [
    "# w(write mode), a(append mode), r(read mode)\n",
    "# wb(write binary mode), ab(append binary mode), rb(read binary mode)"
   ]
  },
  {
   "cell_type": "markdown",
   "metadata": {},
   "source": [
    "## Error Handle"
   ]
  },
  {
   "cell_type": "code",
   "execution_count": 56,
   "metadata": {},
   "outputs": [
    {
     "name": "stdout",
     "output_type": "stream",
     "text": [
      "age? dd\n",
      "I said NUMBER!!\n",
      "age? ddd\n",
      "I said NUMBER!!\n",
      "age? dd\n",
      "I said NUMBER!!\n",
      "age? 1\n"
     ]
    }
   ],
   "source": [
    "while True:\n",
    "    try:\n",
    "        some_num = int(input(\"age? \"))\n",
    "        break\n",
    "    except ValueError:\n",
    "        print(\"I said NUMBER!!\")"
   ]
  },
  {
   "cell_type": "code",
   "execution_count": 57,
   "metadata": {},
   "outputs": [
    {
     "name": "stdout",
     "output_type": "stream",
     "text": [
      "age? ee\n",
      "I said NUMBER!!\n",
      "age? eee\n",
      "I said NUMBER!!\n",
      "age? 3\n"
     ]
    }
   ],
   "source": [
    "def get_num():\n",
    "    try:\n",
    "        some_num = int(input(\"age? \"))\n",
    "    except ValueError:\n",
    "        print(\"I said NUMBER!!\")\n",
    "        get_num()\n",
    "        \n",
    "get_num()"
   ]
  },
  {
   "cell_type": "code",
   "execution_count": 61,
   "metadata": {},
   "outputs": [
    {
     "name": "stdout",
     "output_type": "stream",
     "text": [
      "not file\n"
     ]
    }
   ],
   "source": [
    "try:\n",
    "    f = open('./existance.txt', 'r')\n",
    "except FileNotFoundError:\n",
    "    print(\"not file\")"
   ]
  },
  {
   "cell_type": "code",
   "execution_count": 235,
   "metadata": {},
   "outputs": [
    {
     "name": "stdout",
     "output_type": "stream",
     "text": [
      "enter two numbers: 6 13\n",
      "The result is 78\n"
     ]
    }
   ],
   "source": [
    "# 이집트 곱셈법과 농부 곱셈법\n",
    "# 첫 번째 수를 2의 거듭제곱들의 합으로 분해하고, 두 번째 수의 2의 거듭제곱에 대한 표를 만들어 첫 번째 수와 두 번째 수의 곱을 구한다\n",
    "\n",
    "# 2의 거듭제곱들의 합으로 분해한 list 가져오기\n",
    "def getCheckNum(tmp_num,tmp_checklist):\n",
    "    _num = 1\n",
    "    _rmNum = 0\n",
    "    _cnt = 0   \n",
    "    while True:\n",
    "        _rmNum = tmp_num - _num\n",
    "        _num = _num * 2\n",
    "        if _num > tmp_num:\n",
    "            _result = 2**_cnt          \n",
    "            break\n",
    "        _cnt += 1\n",
    "    \n",
    "    if _rmNum == 0:\n",
    "        tmp_checklist.append(_result)\n",
    "        return tmp_checklist\n",
    "    else:\n",
    "        tmp_checklist.append(_result)\n",
    "        getdataaa(_rmNum,tmp_checklist)  \n",
    "\n",
    "# 이집트 곱셈법\n",
    "def ethiopia_multiplication():\n",
    "    inData = input(\"enter two numbers: \")\n",
    "    inData = inData.split(\" \")\n",
    "    inDataCnt = len(inData)\n",
    "    \n",
    "#     print(inData)\n",
    "#     print(inDataCnt)\n",
    "    \n",
    "    # 숫자유무체크\n",
    "#     for _i in inData:\n",
    "#         if type(_i) != int:\n",
    "#             print('숫자는 정수만 입력해 주세요.')\n",
    "#             ethiopia_multiplication()  \n",
    "    \n",
    "    # 숫자2개유무체크\n",
    "    if inDataCnt != 2:\n",
    "        print('숫자는 2개만 입력해 주세요.')\n",
    "        ethiopia_multiplication()  \n",
    "    \n",
    "    # 큰수, 작은수 구분\n",
    "    if int(inData[0]) >= int(inData[1]):\n",
    "        bigNum = int(inData[0])\n",
    "        smallNum = int(inData[1])\n",
    "    else:\n",
    "        bigNum = int(inData[1])\n",
    "        smallNum = int(inData[0])\n",
    "    \n",
    "    # 큰수 : 2의 거듭제곱들의 합으로 분해한 list 가져오기 \n",
    "    tmp_checklist = []\n",
    "    getCheckNum(bigNum,tmp_checklist)\n",
    "    tmp_checklist\n",
    "    \n",
    "#     print(tmp_checklist)\n",
    "\n",
    "    # 작은수 배수 list 가져오기\n",
    "    tmp_list = []\n",
    "    plusNum = 1\n",
    "    while True:        \n",
    "        tmp_row_list = []\n",
    "        tmp_row_list.append(plusNum)\n",
    "        tmp_row_list.append(smallNum)\n",
    "        tmp_list.append(tmp_row_list)          \n",
    "        remainNum = bigNum - plusNum\n",
    "        plusNum = plusNum * 2\n",
    "        smallNum= smallNum * 2 # 작은수는 2배 증가       \n",
    "        if plusNum > bigNum:\n",
    "            break\n",
    "            \n",
    "    # keep 한 값 더해서 가져오기        \n",
    "    keep_list = []\n",
    "    for kk in tmp_list:            \n",
    "#         print(\"{} {}\".format(kk[0],kk[1]))\n",
    "        for jj in tmp_checklist:\n",
    "            if jj == kk[0]:\n",
    "                keep_list.append(kk[1]) \n",
    "\n",
    "    print(\"The result is {}\".format(sum(keep_list)))\n",
    "\n",
    "# 실행     \n",
    "ethiopia_multiplication()  # 276 137 \n",
    "\n",
    "# enter two numbers: 24 7\n",
    "#   24       7 struck\n",
    "#   12      14 struck\n",
    "#    6      28 struck\n",
    "#    3      56 keep\n",
    "#    1     112 keep\n",
    "# The result is 168\n",
    "\n",
    "# enter two numbers: 13 6\n",
    "#   13       6 keep\n",
    "#    6      12 struck\n",
    "#    3      24 keep\n",
    "#    1      48 keep\n",
    "# The result is 78\n"
   ]
  },
  {
   "cell_type": "code",
   "execution_count": 237,
   "metadata": {},
   "outputs": [
    {
     "name": "stdout",
     "output_type": "stream",
     "text": [
      "enter two numbers: 24 7\n",
      "24\t7\tstruck\n",
      "12\t14\tstruck\n",
      "6\t28\tstruck\n",
      "3\t56\tkeep\n",
      "1\t112\tkeep\n",
      "The result is 168\n"
     ]
    }
   ],
   "source": [
    "# 러시아 농부 곱셈법 또는 고대 이집트 곱셈법이라고도 불린다.\n",
    "# 1. 곱하려는 숫자(예 19와 254)를 적고 두 숫자 사이에 선을 하나 긋자. 작은 수를 앞에 적는 것이 계산이 더 빠르다.\n",
    "# 2. 왼쪽에 있는 숫자를 2로 나눈다. 이때 나머지 값은 버리고 결과만 아래쪽에 적는다. 결과값이 1이 나올때까지 계속해서 2로 나누어준다.\n",
    "# 3. 왼쪽의 계산이 끝이 났다면, 오른쪽으로 넘어간다. 오른쪽에는 2를 곱해서 끝까지 계산한다.\n",
    "# 4. 만약 왼쪽에 짝수가 있다면 같은 줄의 오른쪽 값들은 지운다.\n",
    "# 5. 남은 숫자를 합하면 곱셈의 닶이 나온다.\n",
    "\n",
    "def Russia_multiplication():\n",
    "    inData = input(\"enter two numbers: \")\n",
    "    inData = inData.split(\" \")\n",
    "    f_inData = int(inData[0])\n",
    "    s_inData = int(inData[1])\n",
    "    \n",
    "    result = 0\n",
    "    while True:\n",
    "        if f_inData < 1:\n",
    "            break\n",
    "        if f_inData % 2 == 0:\n",
    "            setType = \"struck\"\n",
    "        else:\n",
    "            setType = \"keep\"\n",
    "            \n",
    "        print(\"{}\\t{}\\t{}\".format(f_inData, s_inData, setType))\n",
    "        \n",
    "        if setType == \"keep\":\n",
    "            result = result + s_inData\n",
    "            \n",
    "        f_inData = f_inData // 2\n",
    "        s_inData = s_inData * 2\n",
    "        \n",
    "    print(\"The result is {}\".format(result)) \n",
    "    \n",
    "# 실행     \n",
    "Russia_multiplication()\n",
    "\n",
    "# enter two numbers: 24 7\n",
    "#   24       7 struck\n",
    "#   12      14 struck\n",
    "#    6      28 struck\n",
    "#    3      56 keep\n",
    "#    1     112 keep\n",
    "# The result is 168\n"
   ]
  },
  {
   "cell_type": "code",
   "execution_count": null,
   "metadata": {},
   "outputs": [],
   "source": []
  }
 ],
 "metadata": {
  "kernelspec": {
   "display_name": "Python 3",
   "language": "python",
   "name": "python3"
  },
  "language_info": {
   "codemirror_mode": {
    "name": "ipython",
    "version": 3
   },
   "file_extension": ".py",
   "mimetype": "text/x-python",
   "name": "python",
   "nbconvert_exporter": "python",
   "pygments_lexer": "ipython3",
   "version": "3.6.5"
  }
 },
 "nbformat": 4,
 "nbformat_minor": 2
}
