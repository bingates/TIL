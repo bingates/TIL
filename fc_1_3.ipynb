{
 "cells": [
  {
   "cell_type": "markdown",
   "metadata": {},
   "source": [
    "## while"
   ]
  },
  {
   "cell_type": "code",
   "execution_count": 3,
   "metadata": {},
   "outputs": [
    {
     "name": "stdout",
     "output_type": "stream",
     "text": [
      "66\n"
     ]
    }
   ],
   "source": [
    "import random\n",
    "\n",
    "answer = random.randint(1,100+1)\n",
    "print(answer)\n",
    "\n",
    "# 인덴테이션 -> 들여쓰기 "
   ]
  },
  {
   "cell_type": "markdown",
   "metadata": {},
   "source": [
    "## Monty Hall Problem"
   ]
  },
  {
   "cell_type": "code",
   "execution_count": 7,
   "metadata": {},
   "outputs": [
    {
     "name": "stdout",
     "output_type": "stream",
     "text": [
      "stay: 33682(33.682%)\n",
      "switch: 66318(66.318%)\n"
     ]
    }
   ],
   "source": [
    "import random\n",
    "\n",
    "stay = 0\n",
    "switch = 0\n",
    "trial = 100000\n",
    "\n",
    "for _i in range(1,trial+1):\n",
    "    doors = [1,0,0] # 차한대, 염소2마리\n",
    "    random.shuffle(doors) # 섞는행위\n",
    "    \n",
    "    choice = random.randrange(3)\n",
    "    guest = doors[choice] # 1 or 0 값이 들어 있음\n",
    "    \n",
    "    if guest == 1:\n",
    "        stay += 1\n",
    "    else:\n",
    "        switch += 1\n",
    "        \n",
    "print(\"stay: {}({}%)\".format(stay,stay/trial*100))\n",
    "print(\"switch: {}({}%)\".format(switch,switch/trial*100))\n",
    "    "
   ]
  },
  {
   "cell_type": "markdown",
   "metadata": {},
   "source": [
    "## Function"
   ]
  },
  {
   "cell_type": "code",
   "execution_count": null,
   "metadata": {},
   "outputs": [],
   "source": [
    "def function_name(param):\n",
    "    processing\n",
    "    return output"
   ]
  },
  {
   "cell_type": "code",
   "execution_count": 10,
   "metadata": {},
   "outputs": [
    {
     "name": "stdout",
     "output_type": "stream",
     "text": [
      "노리턴\n"
     ]
    }
   ],
   "source": [
    "# 리턴이 없으면 변수에 담을 값이 없음\n",
    "def no_return():\n",
    "    print(\"노리턴\")\n",
    "    \n",
    "outputs = no_return()\n",
    "outputs"
   ]
  },
  {
   "cell_type": "code",
   "execution_count": 9,
   "metadata": {},
   "outputs": [],
   "source": [
    "outputs"
   ]
  },
  {
   "cell_type": "code",
   "execution_count": 14,
   "metadata": {},
   "outputs": [
    {
     "data": {
      "text/plain": [
       "(7, 8)"
      ]
     },
     "execution_count": 14,
     "metadata": {},
     "output_type": "execute_result"
    }
   ],
   "source": [
    "def multiple_return(a):\n",
    "    \n",
    "    if a == 10:\n",
    "        print(\"=====\")\n",
    "        return # 반복문의 break \n",
    "    \n",
    "    b = a + 1\n",
    "    return a, b;\n",
    "\n",
    "multiple_return(7) # tuple 로 반환"
   ]
  },
  {
   "cell_type": "code",
   "execution_count": 28,
   "metadata": {},
   "outputs": [
    {
     "data": {
      "text/plain": [
       "-1"
      ]
     },
     "execution_count": 28,
     "metadata": {},
     "output_type": "execute_result"
    }
   ],
   "source": [
    "def calculator(calType, a, b):\n",
    "    pass # 없으면 오류남 -> 그냥 지나감\n",
    "    # param1 : 연산자(\"+\", \"-\")\n",
    "    # parma2,3 : 숫자\n",
    "    \n",
    "    if type(a) == str or type(b) == str:\n",
    "        print(\"only Number is needed!!!!!\")\n",
    "        return False\n",
    "    \n",
    "    if calType == \"+\":\n",
    "        c = a + b\n",
    "    elif calType == \"-\":\n",
    "        c = a - b\n",
    "    else:\n",
    "        print(\"your operator is broken!!!!!\")\n",
    "        return False\n",
    "    \n",
    "    return c\n",
    "    \n",
    "calculator(\"-\",1,2)"
   ]
  },
  {
   "cell_type": "code",
   "execution_count": 32,
   "metadata": {},
   "outputs": [
    {
     "data": {
      "text/plain": [
       "bool"
      ]
     },
     "execution_count": 32,
     "metadata": {},
     "output_type": "execute_result"
    }
   ],
   "source": [
    "type(False)"
   ]
  },
  {
   "cell_type": "markdown",
   "metadata": {},
   "source": [
    "## 윤년체크"
   ]
  },
  {
   "cell_type": "code",
   "execution_count": 48,
   "metadata": {},
   "outputs": [
    {
     "data": {
      "text/plain": [
       "('윤년', 2004)"
      ]
     },
     "execution_count": 48,
     "metadata": {},
     "output_type": "execute_result"
    }
   ],
   "source": [
    "def is_leap(year=2004):\n",
    "    # 4년에 한번 윤년\n",
    "    # 100으로 나누어 떨어지면 평년\n",
    "    # 400의 배수면 윤년\n",
    "    # 나머지 모두는 평년\n",
    "    \n",
    "    _result = \"평년\"\n",
    "        \n",
    "    if year % 4 == 0 and (year % 100 != 0 or year % 400 == 0):\n",
    "        _result = \"윤년\" # Leap year\n",
    "    else:\n",
    "        _result = \"평년\" # Plain year\n",
    "    \n",
    "    return _result, year\n",
    "\n",
    "is_leap()"
   ]
  },
  {
   "cell_type": "code",
   "execution_count": 51,
   "metadata": {},
   "outputs": [
    {
     "name": "stdout",
     "output_type": "stream",
     "text": [
      "Hi\n",
      "againblahblah"
     ]
    }
   ],
   "source": [
    "# 함수의 기본값 설정 예\n",
    "print(\"Hi\",\"again\", sep='\\n', end='blahblah')"
   ]
  },
  {
   "cell_type": "code",
   "execution_count": 54,
   "metadata": {},
   "outputs": [
    {
     "name": "stdout",
     "output_type": "stream",
     "text": [
      "1\n",
      "2\n",
      "4\n"
     ]
    },
    {
     "data": {
      "text/plain": [
       "7"
      ]
     },
     "execution_count": 54,
     "metadata": {},
     "output_type": "execute_result"
    }
   ],
   "source": [
    "def mul_sum(*args):\n",
    "    _result = 0\n",
    "    for _i in args:\n",
    "        print(_i)\n",
    "        _result += _i\n",
    "    \n",
    "    return _result\n",
    "    \n",
    "mul_sum(1,2,4) # tuple return"
   ]
  },
  {
   "cell_type": "code",
   "execution_count": 55,
   "metadata": {},
   "outputs": [
    {
     "name": "stdout",
     "output_type": "stream",
     "text": [
      "{'a': 19, 'b': 'fastcampus'}\n"
     ]
    }
   ],
   "source": [
    "def show_kwagrs(**kwagrs):\n",
    "    print(kwagrs)\n",
    "    pass\n",
    "    \n",
    "show_kwagrs(a=19, b=\"fastcampus\") # Dictionary return"
   ]
  },
  {
   "cell_type": "code",
   "execution_count": 57,
   "metadata": {},
   "outputs": [
    {
     "data": {
      "text/plain": [
       "'https://search.google.com/search.google?query=아우디&utm_source=naver&ie=utf-8&'"
      ]
     },
     "execution_count": 57,
     "metadata": {},
     "output_type": "execute_result"
    }
   ],
   "source": [
    "def url_maker(domain, **kwargs):\n",
    "    url = \"https://search.\" + domain + \".com/search.\" + domain + \"?\"\n",
    "    for key in kwargs.keys():\n",
    "        if key == \"fastcampus\":\n",
    "            continue\n",
    "        else:\n",
    "            url = url + key + \"=\" + kwargs[key] + \"&\"\n",
    "    return url\n",
    "\n",
    "url_maker(\"google\", query=\"아우디\", utm_source=\"naver\", ie=\"utf-8\")\n",
    "    "
   ]
  },
  {
   "cell_type": "code",
   "execution_count": 60,
   "metadata": {},
   "outputs": [
    {
     "name": "stdout",
     "output_type": "stream",
     "text": [
      "1111\n"
     ]
    }
   ],
   "source": [
    "name = \"test\"\n",
    "def aaa():\n",
    "    name = \"1111\"\n",
    "    print(name)\n",
    "\n",
    "aaa()"
   ]
  },
  {
   "cell_type": "code",
   "execution_count": 61,
   "metadata": {},
   "outputs": [
    {
     "name": "stdout",
     "output_type": "stream",
     "text": [
      "test\n"
     ]
    }
   ],
   "source": [
    "print(name)"
   ]
  },
  {
   "cell_type": "code",
   "execution_count": 64,
   "metadata": {},
   "outputs": [
    {
     "name": "stdout",
     "output_type": "stream",
     "text": [
      "How many times? 2\n",
      "Fusion! (1 times left)\n",
      "Fusion! (0 times left)\n",
      "Recurse Complete!\n"
     ]
    },
    {
     "data": {
      "text/plain": [
       "False"
      ]
     },
     "execution_count": 64,
     "metadata": {},
     "output_type": "execute_result"
    }
   ],
   "source": [
    "## Recursive 재귀함수\n",
    "\n",
    "times = int(input(\"How many times? \"))\n",
    "def curse_beast(time):\n",
    "    if time < 1:\n",
    "        print(\"Recurse Complete!\")\n",
    "        return False\n",
    "    else:\n",
    "        print(\"Fusion! ({} times left)\".format(time-1))\n",
    "        return curse_beast(time-1)\n",
    "\n",
    "curse_beast(times)"
   ]
  },
  {
   "cell_type": "markdown",
   "metadata": {},
   "source": [
    "## List Comprehension"
   ]
  },
  {
   "cell_type": "code",
   "execution_count": 75,
   "metadata": {},
   "outputs": [
    {
     "data": {
      "text/plain": [
       "[1, 4, 9, 8, 25]"
      ]
     },
     "execution_count": 75,
     "metadata": {},
     "output_type": "execute_result"
    }
   ],
   "source": [
    "# 하고싶은일 + 조건들 ++++++++\n",
    "\n",
    "old_list = [1,2,3,4,5]\n",
    "doubled_list = []\n",
    "for i in old_list:\n",
    "    if i % 2 == 0:\n",
    "        doubled_list.append(i*2)\n",
    "    else:\n",
    "        doubled_list.append(i**2)\n",
    "    \n",
    "doubled_list"
   ]
  },
  {
   "cell_type": "code",
   "execution_count": 74,
   "metadata": {},
   "outputs": [
    {
     "data": {
      "text/plain": [
       "[2, 4, 6, 8, 10]"
      ]
     },
     "execution_count": 74,
     "metadata": {},
     "output_type": "execute_result"
    }
   ],
   "source": [
    "doubled_list = [i*2 for i in old_list]\n",
    "doubled_list"
   ]
  },
  {
   "cell_type": "code",
   "execution_count": 73,
   "metadata": {},
   "outputs": [
    {
     "data": {
      "text/plain": [
       "[4, 8]"
      ]
     },
     "execution_count": 73,
     "metadata": {},
     "output_type": "execute_result"
    }
   ],
   "source": [
    "doubled_list_1 = [i*2 for i in old_list if i % 2 == 0]\n",
    "doubled_list_1"
   ]
  },
  {
   "cell_type": "code",
   "execution_count": 72,
   "metadata": {},
   "outputs": [
    {
     "data": {
      "text/plain": [
       "[1, 4, 9, 8, 25]"
      ]
     },
     "execution_count": 72,
     "metadata": {},
     "output_type": "execute_result"
    }
   ],
   "source": [
    "doubled_list_2 = [i*2 if i % 2 == 0 else i**2 for i in old_list]\n",
    "doubled_list_2"
   ]
  },
  {
   "cell_type": "code",
   "execution_count": 74,
   "metadata": {},
   "outputs": [
    {
     "data": {
      "text/plain": [
       "-31"
      ]
     },
     "execution_count": 74,
     "metadata": {},
     "output_type": "execute_result"
    }
   ],
   "source": [
    "# def calculator(sym, *args):\n",
    "#    result = 0\n",
    "#    for i in args:\n",
    "#        result += i\n",
    "#    if sym == \"+\":\n",
    "#        return result\n",
    "#    elif sym == \"-\":\n",
    "#        result = 2*args[0]-result\n",
    "#        return result\n",
    "#    else:\n",
    "#        return \"ERROR\"\n",
    "   \n",
    "# calculator(\"-\", 1,2,4)\n",
    "\n",
    "\n",
    "def homework_calculator_hit(cal, *args):\n",
    "    _result = 0\n",
    "    \n",
    "    for _i in args:  \n",
    "        _result += _i         \n",
    "        \n",
    "    if cal == \"+\":\n",
    "        _result = _i\n",
    "    elif cal == \"-\":\n",
    "        _result = args[0]*2 - _result\n",
    "    else:\n",
    "        _result = \"Err\"\n",
    "        \n",
    "    return _result\n",
    "    \n",
    "homework_calculator_hit(\"-\",1,2,10,20)"
   ]
  },
  {
   "cell_type": "code",
   "execution_count": 128,
   "metadata": {},
   "outputs": [
    {
     "data": {
      "text/plain": [
       "[1,\n",
       " 2,\n",
       " 'fizz',\n",
       " 4,\n",
       " 'buzz',\n",
       " 'fizz',\n",
       " 7,\n",
       " 8,\n",
       " 'fizz',\n",
       " 'buzz',\n",
       " 11,\n",
       " 'fizz',\n",
       " 13,\n",
       " 14,\n",
       " 'fizzbuzz',\n",
       " 16,\n",
       " 17,\n",
       " 'fizz',\n",
       " 19,\n",
       " 'buzz',\n",
       " 'fizz',\n",
       " 22,\n",
       " 23,\n",
       " 'fizz',\n",
       " 'buzz',\n",
       " 26,\n",
       " 'fizz',\n",
       " 28,\n",
       " 29,\n",
       " 'fizzbuzz',\n",
       " 31,\n",
       " 32,\n",
       " 'fizz',\n",
       " 34,\n",
       " 'buzz',\n",
       " 'fizz',\n",
       " 37,\n",
       " 38,\n",
       " 'fizz',\n",
       " 'buzz',\n",
       " 41,\n",
       " 'fizz',\n",
       " 43,\n",
       " 44,\n",
       " 'fizzbuzz',\n",
       " 46,\n",
       " 47,\n",
       " 'fizz',\n",
       " 49,\n",
       " 'buzz',\n",
       " 'fizz',\n",
       " 52,\n",
       " 53,\n",
       " 'fizz',\n",
       " 'buzz',\n",
       " 56,\n",
       " 'fizz',\n",
       " 58,\n",
       " 59,\n",
       " 'fizzbuzz',\n",
       " 61,\n",
       " 62,\n",
       " 'fizz',\n",
       " 64,\n",
       " 'buzz',\n",
       " 'fizz',\n",
       " 67,\n",
       " 68,\n",
       " 'fizz',\n",
       " 'buzz',\n",
       " 71,\n",
       " 'fizz',\n",
       " 73,\n",
       " 74,\n",
       " 'fizzbuzz',\n",
       " 76,\n",
       " 77,\n",
       " 'fizz',\n",
       " 79,\n",
       " 'buzz',\n",
       " 'fizz',\n",
       " 82,\n",
       " 83,\n",
       " 'fizz',\n",
       " 'buzz',\n",
       " 86,\n",
       " 'fizz',\n",
       " 88,\n",
       " 89,\n",
       " 'fizzbuzz',\n",
       " 91,\n",
       " 92,\n",
       " 'fizz',\n",
       " 94,\n",
       " 'buzz',\n",
       " 'fizz',\n",
       " 97,\n",
       " 98,\n",
       " 'fizz',\n",
       " 'buzz']"
      ]
     },
     "execution_count": 128,
     "metadata": {},
     "output_type": "execute_result"
    }
   ],
   "source": [
    "# 숙제 2: 1 ~ 100까지 fizzbuzz를 list comprehension으로 완성하기\n",
    "\n",
    "fizzbuzz_list_1 = ['fizzbuzz' if _i % 15 == 0 else 'fizz' if _i % 3 == 0 else 'buzz' if _i % 5 == 0 else _i for _i in range(1,100+1)]\n",
    "fizzbuzz_list_1"
   ]
  },
  {
   "cell_type": "code",
   "execution_count": 129,
   "metadata": {},
   "outputs": [
    {
     "data": {
      "text/plain": [
       "[1,\n",
       " 2,\n",
       " 'fizz',\n",
       " 4,\n",
       " 'buzz',\n",
       " 'fizz',\n",
       " 7,\n",
       " 8,\n",
       " 'fizz',\n",
       " 'buzz',\n",
       " 11,\n",
       " 'fizz',\n",
       " 13,\n",
       " 14,\n",
       " 'fizzbuzz',\n",
       " 16,\n",
       " 17,\n",
       " 'fizz',\n",
       " 19,\n",
       " 'buzz',\n",
       " 'fizz',\n",
       " 22,\n",
       " 23,\n",
       " 'fizz',\n",
       " 'buzz',\n",
       " 26,\n",
       " 'fizz',\n",
       " 28,\n",
       " 29,\n",
       " 'fizzbuzz',\n",
       " 31,\n",
       " 32,\n",
       " 'fizz',\n",
       " 34,\n",
       " 'buzz',\n",
       " 'fizz',\n",
       " 37,\n",
       " 38,\n",
       " 'fizz',\n",
       " 'buzz',\n",
       " 41,\n",
       " 'fizz',\n",
       " 43,\n",
       " 44,\n",
       " 'fizzbuzz',\n",
       " 46,\n",
       " 47,\n",
       " 'fizz',\n",
       " 49,\n",
       " 'buzz',\n",
       " 'fizz',\n",
       " 52,\n",
       " 53,\n",
       " 'fizz',\n",
       " 'buzz',\n",
       " 56,\n",
       " 'fizz',\n",
       " 58,\n",
       " 59,\n",
       " 'fizzbuzz',\n",
       " 61,\n",
       " 62,\n",
       " 'fizz',\n",
       " 64,\n",
       " 'buzz',\n",
       " 'fizz',\n",
       " 67,\n",
       " 68,\n",
       " 'fizz',\n",
       " 'buzz',\n",
       " 71,\n",
       " 'fizz',\n",
       " 73,\n",
       " 74,\n",
       " 'fizzbuzz',\n",
       " 76,\n",
       " 77,\n",
       " 'fizz',\n",
       " 79,\n",
       " 'buzz',\n",
       " 'fizz',\n",
       " 82,\n",
       " 83,\n",
       " 'fizz',\n",
       " 'buzz',\n",
       " 86,\n",
       " 'fizz',\n",
       " 88,\n",
       " 89,\n",
       " 'fizzbuzz',\n",
       " 91,\n",
       " 92,\n",
       " 'fizz',\n",
       " 94,\n",
       " 'buzz',\n",
       " 'fizz',\n",
       " 97,\n",
       " 98,\n",
       " 'fizz',\n",
       " 'buzz']"
      ]
     },
     "execution_count": 129,
     "metadata": {},
     "output_type": "execute_result"
    }
   ],
   "source": [
    "# 숙제 2: 1 ~ 100까지 fizzbuzz를 list comprehension으로 완성하기\n",
    "\n",
    "def getText(_i):\n",
    "    if _i % 15 == 0:\n",
    "       _result = 'fizzbuzz'\n",
    "    elif _i % 3 == 0:\n",
    "       _result = 'fizz'\n",
    "    elif _i % 5 == 0:\n",
    "       _result = 'buzz'\n",
    "    else:\n",
    "       _result = _i\n",
    "    return _result\n",
    "    \n",
    "fizzbuzz_list = [getText(_i) for _i in range(1,100+1)]\n",
    "fizzbuzz_list"
   ]
  },
  {
   "cell_type": "code",
   "execution_count": 126,
   "metadata": {},
   "outputs": [
    {
     "data": {
      "text/plain": [
       "0.5"
      ]
     },
     "execution_count": 126,
     "metadata": {},
     "output_type": "execute_result"
    }
   ],
   "source": [
    "# 숙제 1: arguments 를 이용해 calculator() Develop 하기\n",
    "\n",
    "def homework_calculator1(cal, *args):\n",
    "    if cal == \"+\":\n",
    "        _result = 0\n",
    "    else:\n",
    "        _result = 1\n",
    "        \n",
    "    _cnt = 0   \n",
    "    for _i in args:        \n",
    "        if cal == \"+\":\n",
    "            _result += _i\n",
    "        elif cal == \"-\":\n",
    "            if _cnt == 0 :\n",
    "                _result = args[0]\n",
    "            else:\n",
    "                _result -= _i    \n",
    "        elif cal == \"*\":\n",
    "            _result *= _i \n",
    "        elif cal == \"/\":\n",
    "            if _cnt == 0 :\n",
    "                _result = args[0]\n",
    "            else:\n",
    "                _result /= _i \n",
    "        _cnt += 1            \n",
    "    return _result\n",
    "    \n",
    "homework_calculator1(\"/\",8,2,4,2) # 더하기(+), 뺴기(-), 곱하기(*), 나누기(/)"
   ]
  },
  {
   "cell_type": "code",
   "execution_count": 127,
   "metadata": {},
   "outputs": [
    {
     "data": {
      "text/plain": [
       "0.5"
      ]
     },
     "execution_count": 127,
     "metadata": {},
     "output_type": "execute_result"
    }
   ],
   "source": [
    "# 숙제 1: arguments 를 이용해 calculator() Develop 하기\n",
    "\n",
    "def homework_calculator(cal, *args):\n",
    "    \n",
    "    _result = args[0]\n",
    "    \n",
    "    if cal == \"+\":       \n",
    "        for _i in args[1:]:\n",
    "            _result += _i\n",
    "    elif cal == \"-\":\n",
    "        for _i in args[1:]:\n",
    "            _result -= _i\n",
    "    elif cal == \"*\":\n",
    "        for _i in args[1:]:\n",
    "            _result *= _i\n",
    "    elif cal == \"/\":\n",
    "        for _i in args[1:]:\n",
    "            _result /= _i\n",
    "    else:\n",
    "        _result = \"Err\"\n",
    "    \n",
    "    return _result\n",
    "\n",
    "homework_calculator(\"/\",8,2,4,2) # 더하기(+), 뺴기(-), 곱하기(*), 나누기(/)"
   ]
  },
  {
   "cell_type": "code",
   "execution_count": null,
   "metadata": {},
   "outputs": [],
   "source": []
  }
 ],
 "metadata": {
  "kernelspec": {
   "display_name": "Python 3",
   "language": "python",
   "name": "python3"
  },
  "language_info": {
   "codemirror_mode": {
    "name": "ipython",
    "version": 3
   },
   "file_extension": ".py",
   "mimetype": "text/x-python",
   "name": "python",
   "nbconvert_exporter": "python",
   "pygments_lexer": "ipython3",
   "version": "3.6.5"
  }
 },
 "nbformat": 4,
 "nbformat_minor": 2
}
