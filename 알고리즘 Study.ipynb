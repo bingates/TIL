{
 "cells": [
  {
   "cell_type": "code",
   "execution_count": 23,
   "metadata": {},
   "outputs": [
    {
     "data": {
      "text/plain": [
       "False"
      ]
     },
     "execution_count": 23,
     "metadata": {},
     "output_type": "execute_result"
    }
   ],
   "source": [
    "# alpha_string46함수는 문자열 s를 매개변수로 입력받습니다. \n",
    "# s의 길이가 4혹은 6이고, 숫자로만 구성되있는지 확인해주는 함수를 완성하세요. \n",
    "# 예를들어 s가 “a234”이면 False를 리턴하고 “1234”라면 True를 리턴하면 됩니다\n",
    "\n",
    "def isNumber(x):\n",
    "    try:\n",
    "        int(x)\n",
    "        return True\n",
    "    except ValueError:\n",
    "        return False\n",
    "\n",
    "def alpha_string46(s):\n",
    "    _result = False\n",
    "    if (len(s)==4 or len(s)==6) and isNumber(s)==True:\n",
    "        _result = True\n",
    "    return _result\n",
    "\n",
    "alpha_string46('12a212')"
   ]
  },
  {
   "cell_type": "code",
   "execution_count": 39,
   "metadata": {},
   "outputs": [
    {
     "data": {
      "text/plain": [
       "False"
      ]
     },
     "execution_count": 39,
     "metadata": {},
     "output_type": "execute_result"
    }
   ],
   "source": [
    "# numPY함수는 대문자와 소문자가 섞여있는 문자열 s를 매개변수로 입력받습니다. \n",
    "# s에 ‘p’의 개수와 ‘y’의 개수를 비교해 같으면 True, 다르면 False를 리턴하도록 함수를 완성하세요.\n",
    "# ‘p’, ‘y’ 모두 하나도 없는 경우는 항상 True를 리턴합니다. \n",
    "# 예를들어 s가 “pPoooyY”면 True를 리턴하고 “Pyy”라면 False를 리턴합니다.\n",
    "\n",
    "def numPY(s):\n",
    "    _resutl = True\n",
    "    s = s.lower()\n",
    "    \n",
    "    pcnt = 0\n",
    "    ycnt = 0\n",
    "    for i in range(len(s)):\n",
    "        if s[i] == 'p':\n",
    "            pcnt += 1\n",
    "        elif s[i] == 'y':\n",
    "            ycnt += 1\n",
    "            \n",
    "    if pcnt == ycnt:\n",
    "        _result = True\n",
    "    else:\n",
    "        _result = False\n",
    "        \n",
    "    return _result\n",
    "    \n",
    "numPY(\"Pyy\")"
   ]
  },
  {
   "cell_type": "code",
   "execution_count": null,
   "metadata": {},
   "outputs": [],
   "source": []
  }
 ],
 "metadata": {
  "kernelspec": {
   "display_name": "Python 3",
   "language": "python",
   "name": "python3"
  },
  "language_info": {
   "codemirror_mode": {
    "name": "ipython",
    "version": 3
   },
   "file_extension": ".py",
   "mimetype": "text/x-python",
   "name": "python",
   "nbconvert_exporter": "python",
   "pygments_lexer": "ipython3",
   "version": "3.6.5"
  }
 },
 "nbformat": 4,
 "nbformat_minor": 2
}
