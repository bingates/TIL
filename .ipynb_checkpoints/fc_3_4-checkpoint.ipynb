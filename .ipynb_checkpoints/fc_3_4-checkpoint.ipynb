{
 "cells": [
  {
   "cell_type": "markdown",
   "metadata": {},
   "source": [
    "## 메모리"
   ]
  },
  {
   "cell_type": "code",
   "execution_count": 1,
   "metadata": {},
   "outputs": [],
   "source": [
    "# stack 자랄수 있는 크기가 정해져 있다\n",
    "# 가상메모리\n",
    "# heap \n",
    "#     -> 메모리 단편화(최악) ????? \n",
    "#     -> 메모리 누수\n",
    "# dynamic heap, default heap 이 있음 -> 페이스북참조\n",
    "# stack -> 차례대로 쌓이므로 빈공간이 없음 그러나 heap 은 다름\n",
    "\n",
    "# heap 이 상대적으로  stack 보다 느린 이유 ???"
   ]
  },
  {
   "cell_type": "markdown",
   "metadata": {},
   "source": [
    "## 가상메모리"
   ]
  },
  {
   "cell_type": "code",
   "execution_count": 3,
   "metadata": {},
   "outputs": [],
   "source": [
    "# 목적 : 부족한 메인메모리를 도와 주는 하드디스크 의 일부분을 사용함 \n",
    "# 메인메모리 + page file(하드디스크일부) = physical memory 를 확장함\n",
    "# 가상메모리 알고리즘 ???\n",
    "# 논리주소 와 물리주소 ???\n",
    "# 가상메모리와 가상주소공간은 다른개념임 ???????"
   ]
  },
  {
   "cell_type": "code",
   "execution_count": 4,
   "metadata": {},
   "outputs": [],
   "source": [
    "# TLB (Translation lookaside buffer)\n",
    "#     -> cache 일종\n",
    "#     -> 페이지 테이블 데이타 일부를 임시 저장 해 둠\n",
    "#     -> 페이지 테이블 데이타 가져오기 전에 TLB에 먼저 확인\n",
    "#     -> TLB hit, TLB miss"
   ]
  },
  {
   "cell_type": "markdown",
   "metadata": {},
   "source": [
    "## Process, Thread"
   ]
  },
  {
   "cell_type": "code",
   "execution_count": 7,
   "metadata": {},
   "outputs": [],
   "source": [
    "# 프로세스 상태, 스케쥴러, 스케쥴링 알고리즘\n",
    "# 프로세스 알고리즘\n",
    "#     -> 우선순위\n",
    "#     -> 라운드로빈 : time slice 퀀텀 ????? cpu를 얼마동안\n",
    "\n",
    "# OS -> 선점형(새치기가능) 스케쥴링, 비선점형(명시적양보,I/O) 스케쥴링"
   ]
  },
  {
   "cell_type": "markdown",
   "metadata": {},
   "source": [
    "## Context switching"
   ]
  },
  {
   "cell_type": "code",
   "execution_count": 8,
   "metadata": {},
   "outputs": [],
   "source": [
    "# 어떤 프로세스가 CPU 를 할당 받고 양보하고 하는 일련의 과정중에서 레지스터 정보를 메모리에 내리고 올리는 행위를 Context switching\n",
    "# process A PCB (process control block)\n",
    "# Context 란 현재 CPU 가지고 있는 레지스트 정보\n",
    "# Context switching 은 부하가 있으므로 자주 일어 나지 않게 해야함"
   ]
  },
  {
   "cell_type": "code",
   "execution_count": null,
   "metadata": {},
   "outputs": [],
   "source": []
  }
 ],
 "metadata": {
  "kernelspec": {
   "display_name": "Python 3",
   "language": "python",
   "name": "python3"
  },
  "language_info": {
   "codemirror_mode": {
    "name": "ipython",
    "version": 3
   },
   "file_extension": ".py",
   "mimetype": "text/x-python",
   "name": "python",
   "nbconvert_exporter": "python",
   "pygments_lexer": "ipython3",
   "version": "3.6.5"
  }
 },
 "nbformat": 4,
 "nbformat_minor": 2
}
