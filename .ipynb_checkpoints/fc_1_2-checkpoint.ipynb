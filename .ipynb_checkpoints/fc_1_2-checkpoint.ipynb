{
 "cells": [
  {
   "cell_type": "code",
   "execution_count": 1,
   "metadata": {},
   "outputs": [],
   "source": [
    "# str, list, tuple, dict, set, if, for, while"
   ]
  },
  {
   "cell_type": "code",
   "execution_count": 3,
   "metadata": {},
   "outputs": [],
   "source": [
    "some_text = \"Python is very easy and efficent language.\""
   ]
  },
  {
   "cell_type": "code",
   "execution_count": 4,
   "metadata": {},
   "outputs": [
    {
     "data": {
      "text/plain": [
       "42"
      ]
     },
     "execution_count": 4,
     "metadata": {},
     "output_type": "execute_result"
    }
   ],
   "source": [
    "len(some_text)"
   ]
  },
  {
   "cell_type": "code",
   "execution_count": 9,
   "metadata": {},
   "outputs": [
    {
     "data": {
      "text/plain": [
       "'very '"
      ]
     },
     "execution_count": 9,
     "metadata": {},
     "output_type": "execute_result"
    }
   ],
   "source": [
    "some_text[10:14+1]"
   ]
  },
  {
   "cell_type": "code",
   "execution_count": 13,
   "metadata": {},
   "outputs": [
    {
     "data": {
      "text/plain": [
       "'.gunlteif n seye inhy'"
      ]
     },
     "execution_count": 13,
     "metadata": {},
     "output_type": "execute_result"
    }
   ],
   "source": [
    "some_text[::-2]"
   ]
  },
  {
   "cell_type": "code",
   "execution_count": 16,
   "metadata": {},
   "outputs": [
    {
     "data": {
      "text/plain": [
       "'.egaugnal tneciffe dna ysae yrev si nohtyP'"
      ]
     },
     "execution_count": 16,
     "metadata": {},
     "output_type": "execute_result"
    }
   ],
   "source": [
    "some_text[-1:-(len(some_text)+1):-1]"
   ]
  },
  {
   "cell_type": "code",
   "execution_count": 19,
   "metadata": {},
   "outputs": [
    {
     "ename": "TypeError",
     "evalue": "'str' object does not support item assignment",
     "output_type": "error",
     "traceback": [
      "\u001b[0;31m---------------------------------------------------------------------------\u001b[0m",
      "\u001b[0;31mTypeError\u001b[0m                                 Traceback (most recent call last)",
      "\u001b[0;32m<ipython-input-19-cb64b4fa9bed>\u001b[0m in \u001b[0;36m<module>\u001b[0;34m()\u001b[0m\n\u001b[1;32m      1\u001b[0m \u001b[0;31m# 문자열에선 변경불가 list와 다름\u001b[0m\u001b[0;34m\u001b[0m\u001b[0;34m\u001b[0m\u001b[0m\n\u001b[0;32m----> 2\u001b[0;31m \u001b[0msome_text\u001b[0m\u001b[0;34m[\u001b[0m\u001b[0;36m0\u001b[0m\u001b[0;34m]\u001b[0m \u001b[0;34m=\u001b[0m \u001b[0;34m\"p\"\u001b[0m \u001b[0;31m# 대문자를 소문자로 변경\u001b[0m\u001b[0;34m\u001b[0m\u001b[0m\n\u001b[0m",
      "\u001b[0;31mTypeError\u001b[0m: 'str' object does not support item assignment"
     ]
    }
   ],
   "source": [
    "# 문자열에선 변경불가 list와 다름\n",
    "some_text[0] = \"p\" # 대문자를 소문자로 변경"
   ]
  },
  {
   "cell_type": "code",
   "execution_count": 18,
   "metadata": {},
   "outputs": [
    {
     "data": {
      "text/plain": [
       "5"
      ]
     },
     "execution_count": 18,
     "metadata": {},
     "output_type": "execute_result"
    }
   ],
   "source": [
    "some_text.count(\"e\") # ==> 해당 글자와 일치하는 것의 갯수"
   ]
  },
  {
   "cell_type": "code",
   "execution_count": 28,
   "metadata": {},
   "outputs": [
    {
     "data": {
      "text/plain": [
       "7"
      ]
     },
     "execution_count": 28,
     "metadata": {},
     "output_type": "execute_result"
    }
   ],
   "source": [
    "some_text.find(\"i\") # ==> 해당 글자의 위치"
   ]
  },
  {
   "cell_type": "code",
   "execution_count": 31,
   "metadata": {},
   "outputs": [
    {
     "data": {
      "text/plain": [
       "['Python', 'is', 'very', 'easy', 'and', 'efficent', 'language.']"
      ]
     },
     "execution_count": 31,
     "metadata": {},
     "output_type": "execute_result"
    }
   ],
   "source": [
    "some_text.split() # some_text.split(' ')"
   ]
  },
  {
   "cell_type": "code",
   "execution_count": 30,
   "metadata": {},
   "outputs": [
    {
     "data": {
      "text/plain": [
       "['Python is very easy ', ' efficent language.']"
      ]
     },
     "execution_count": 30,
     "metadata": {},
     "output_type": "execute_result"
    }
   ],
   "source": [
    "some_text.split('and')"
   ]
  },
  {
   "cell_type": "code",
   "execution_count": 32,
   "metadata": {},
   "outputs": [
    {
     "data": {
      "text/plain": [
       "'Python is very easy and efficent language.'"
      ]
     },
     "execution_count": 32,
     "metadata": {},
     "output_type": "execute_result"
    }
   ],
   "source": [
    "some_text.strip()"
   ]
  },
  {
   "cell_type": "code",
   "execution_count": 33,
   "metadata": {},
   "outputs": [
    {
     "data": {
      "text/plain": [
       "'Python is very easy and efficent language'"
      ]
     },
     "execution_count": 33,
     "metadata": {},
     "output_type": "execute_result"
    }
   ],
   "source": [
    "some_text.strip(' .')"
   ]
  },
  {
   "cell_type": "code",
   "execution_count": 43,
   "metadata": {},
   "outputs": [],
   "source": [
    "aa = \"     ,,,...a \\n b \\n,,,,....    \"\n",
    "bb = aa.strip(' ,.')"
   ]
  },
  {
   "cell_type": "code",
   "execution_count": 45,
   "metadata": {},
   "outputs": [
    {
     "data": {
      "text/plain": [
       "['a', 'b']"
      ]
     },
     "execution_count": 45,
     "metadata": {},
     "output_type": "execute_result"
    }
   ],
   "source": [
    "bb.replace(' \\n','').split(' ')"
   ]
  },
  {
   "cell_type": "code",
   "execution_count": 48,
   "metadata": {},
   "outputs": [
    {
     "name": "stdout",
     "output_type": "stream",
     "text": [
      "name?이순신\n"
     ]
    },
    {
     "data": {
      "text/plain": [
       "'야생의 이순신(이)가 나타났다'"
      ]
     },
     "execution_count": 48,
     "metadata": {},
     "output_type": "execute_result"
    }
   ],
   "source": [
    "cc = input('name?')\n",
    "script = \"야생의 {}(이)가 나타났다\".format(cc)\n",
    "script"
   ]
  },
  {
   "cell_type": "markdown",
   "metadata": {},
   "source": [
    "## LIST, TUPLE"
   ]
  },
  {
   "cell_type": "code",
   "execution_count": 62,
   "metadata": {},
   "outputs": [
    {
     "data": {
      "text/plain": [
       "['e', 'f', 'g', 'a', 'b', 'c', 'd']"
      ]
     },
     "execution_count": 62,
     "metadata": {},
     "output_type": "execute_result"
    }
   ],
   "source": [
    "a_list = [\"e\", \"f\"]\n",
    "a_list.append(\"a\") # 한번에 하나씩만 넣을 수 있음\n",
    "a_list.append(\"b\")\n",
    "a_list.append(\"c\")\n",
    "a_list.append(\"d\")\n",
    "a_list.insert(2,\"g\")\n",
    "# a_list.remove(\"c\")\n",
    "#a_list.remove(a_list[2]).remove(\"d\") # 리턴타입문제로 오류남\n",
    "a_list"
   ]
  },
  {
   "cell_type": "code",
   "execution_count": 63,
   "metadata": {},
   "outputs": [
    {
     "data": {
      "text/plain": [
       "'g'"
      ]
     },
     "execution_count": 63,
     "metadata": {},
     "output_type": "execute_result"
    }
   ],
   "source": [
    "a_list.pop(2) # 지우는 개념이 아님 잠시 가져옴"
   ]
  },
  {
   "cell_type": "code",
   "execution_count": 64,
   "metadata": {},
   "outputs": [
    {
     "data": {
      "text/plain": [
       "'a'"
      ]
     },
     "execution_count": 64,
     "metadata": {},
     "output_type": "execute_result"
    }
   ],
   "source": [
    "a_list.pop(2)"
   ]
  },
  {
   "cell_type": "code",
   "execution_count": 66,
   "metadata": {},
   "outputs": [
    {
     "data": {
      "text/plain": [
       "('a', 'b')"
      ]
     },
     "execution_count": 66,
     "metadata": {},
     "output_type": "execute_result"
    }
   ],
   "source": [
    "tuple1 = (\"a\", \"b\")\n",
    "#tuple1.append(\"1\")\n",
    "tuple1"
   ]
  },
  {
   "cell_type": "code",
   "execution_count": 70,
   "metadata": {},
   "outputs": [
    {
     "data": {
      "text/plain": [
       "('a', 'b', 'c')"
      ]
     },
     "execution_count": 70,
     "metadata": {},
     "output_type": "execute_result"
    }
   ],
   "source": [
    "listed_tuple = list(tuple1)\n",
    "listed_tuple.append(\"c\")\n",
    "tuple1 = tuple(listed_tuple)\n",
    "tuple1"
   ]
  },
  {
   "cell_type": "code",
   "execution_count": 73,
   "metadata": {},
   "outputs": [
    {
     "name": "stdout",
     "output_type": "stream",
     "text": [
      "100 1\n"
     ]
    }
   ],
   "source": [
    "x=1\n",
    "y=100\n",
    "#temp=x\n",
    "#x=y\n",
    "#y=temp\n",
    "(y,x) = (x,y)\n",
    "print(x,y)"
   ]
  },
  {
   "cell_type": "markdown",
   "metadata": {},
   "source": [
    "## dict set"
   ]
  },
  {
   "cell_type": "code",
   "execution_count": 80,
   "metadata": {},
   "outputs": [
    {
     "data": {
      "text/plain": [
       "{'name': 'kim', 'addr': 'seoul', 'call': '082', 'email': 'naver'}"
      ]
     },
     "execution_count": 80,
     "metadata": {},
     "output_type": "execute_result"
    }
   ],
   "source": [
    "user_data = {}\n",
    "user_data[\"name\"] = \"kim\"\n",
    "user_data[\"addr\"] = \"seoul\"\n",
    "user_data[\"call\"] = \"082\"\n",
    "user_data[\"email\"] = \"naver\"\n",
    "user_data"
   ]
  },
  {
   "cell_type": "code",
   "execution_count": 83,
   "metadata": {},
   "outputs": [
    {
     "data": {
      "text/plain": [
       "dict_items([('name', 'kim'), ('addr', 'seoul'), ('call', '082'), ('email', 'naver')])"
      ]
     },
     "execution_count": 83,
     "metadata": {},
     "output_type": "execute_result"
    }
   ],
   "source": [
    "#del user_data[\"addr\"]\n",
    "user_data.keys()\n",
    "user_data.values()\n",
    "user_data.items() # list로 받음"
   ]
  },
  {
   "cell_type": "code",
   "execution_count": 87,
   "metadata": {},
   "outputs": [
    {
     "data": {
      "text/plain": [
       "('addr', 'seoul')"
      ]
     },
     "execution_count": 87,
     "metadata": {},
     "output_type": "execute_result"
    }
   ],
   "source": [
    "listed_dic = list(user_data.items())\n",
    "listed_dic[1]"
   ]
  },
  {
   "cell_type": "code",
   "execution_count": 88,
   "metadata": {},
   "outputs": [
    {
     "data": {
      "text/plain": [
       "{'a', 'c', 'f', 'm', 'p', 's', 't', 'u'}"
      ]
     },
     "execution_count": 88,
     "metadata": {},
     "output_type": "execute_result"
    }
   ],
   "source": [
    "set_a = set(\"fastcampus\")\n",
    "set_a"
   ]
  },
  {
   "cell_type": "code",
   "execution_count": 89,
   "metadata": {},
   "outputs": [
    {
     "data": {
      "text/plain": [
       "{'h', 'n', 'o', 'p', 't', 'y'}"
      ]
     },
     "execution_count": 89,
     "metadata": {},
     "output_type": "execute_result"
    }
   ],
   "source": [
    "set_b = set(\"python\")\n",
    "set_b"
   ]
  },
  {
   "cell_type": "code",
   "execution_count": 90,
   "metadata": {},
   "outputs": [
    {
     "data": {
      "text/plain": [
       "{'a', 'c', 'f', 'h', 'm', 'n', 'o', 'p', 's', 't', 'u', 'y'}"
      ]
     },
     "execution_count": 90,
     "metadata": {},
     "output_type": "execute_result"
    }
   ],
   "source": [
    "hap = set_a | set_b\n",
    "hap"
   ]
  },
  {
   "cell_type": "code",
   "execution_count": 91,
   "metadata": {},
   "outputs": [
    {
     "data": {
      "text/plain": [
       "{'p', 't'}"
      ]
     },
     "execution_count": 91,
     "metadata": {},
     "output_type": "execute_result"
    }
   ],
   "source": [
    "set_a & set_b"
   ]
  },
  {
   "cell_type": "code",
   "execution_count": 92,
   "metadata": {},
   "outputs": [
    {
     "data": {
      "text/plain": [
       "{'a', 'c', 'f', 'm', 's', 'u'}"
      ]
     },
     "execution_count": 92,
     "metadata": {},
     "output_type": "execute_result"
    }
   ],
   "source": [
    "set_a - set_b"
   ]
  },
  {
   "cell_type": "markdown",
   "metadata": {},
   "source": [
    "## 중복제거를 위해 set 사용함"
   ]
  },
  {
   "cell_type": "code",
   "execution_count": 95,
   "metadata": {},
   "outputs": [
    {
     "name": "stdout",
     "output_type": "stream",
     "text": [
      "true\n"
     ]
    }
   ],
   "source": [
    "flag = True\n",
    "if flag == False:\n",
    "    print(\"false\")\n",
    "else:\n",
    "    print(\"true\")"
   ]
  },
  {
   "cell_type": "markdown",
   "metadata": {},
   "source": [
    "## numguess"
   ]
  },
  {
   "cell_type": "code",
   "execution_count": 112,
   "metadata": {},
   "outputs": [
    {
     "name": "stdout",
     "output_type": "stream",
     "text": [
      "37\n"
     ]
    }
   ],
   "source": [
    "import random\n",
    "answer = random.randint(1,100+1)\n",
    "print(answer)\n",
    "    \n",
    "flag = True\n",
    "i = 0\n",
    "\n",
    "# while flag:\n",
    "\n",
    "#     if i > 2:\n",
    "#         flag = False\n",
    "#         print('수고하셨습니다.')\n",
    "#     else:\n",
    "#         if param == answer:\n",
    "#             flag = False\n",
    "#             print('성공')\n",
    "#         else:\n",
    "#             param = input(\"다른 숫자?\")\n",
    "#             if type(param) == int:\n",
    "#                 i = i + 1\n",
    "#                 param = int(param)\n",
    "#             else:\n",
    "#                 print(\"숫자만 입력해 주세요!\")\n",
    "\n",
    "    \n"
   ]
  },
  {
   "cell_type": "code",
   "execution_count": 123,
   "metadata": {},
   "outputs": [
    {
     "name": "stdout",
     "output_type": "stream",
     "text": [
      "1 : 1\n",
      "2 : 2\n",
      "3 : ['fizz']\n",
      "4 : 4\n",
      "5 : ['buzz']\n",
      "6 : ['fizz']\n",
      "7 : 7\n",
      "8 : 8\n",
      "9 : ['fizz']\n",
      "10 : ['buzz']\n",
      "11 : 11\n",
      "12 : ['fizz']\n",
      "13 : 13\n",
      "14 : 14\n",
      "15 : ['fizz', 'buzz', 'fizzbuzz']\n",
      "16 : 16\n",
      "17 : 17\n",
      "18 : ['fizz']\n",
      "19 : 19\n",
      "20 : ['buzz']\n",
      "21 : ['fizz']\n",
      "22 : 22\n",
      "23 : 23\n",
      "24 : ['fizz']\n",
      "25 : ['buzz']\n",
      "26 : 26\n",
      "27 : ['fizz']\n",
      "28 : 28\n",
      "29 : 29\n",
      "30 : ['fizz', 'buzz', 'fizzbuzz']\n",
      "31 : 31\n",
      "32 : 32\n",
      "33 : ['fizz']\n",
      "34 : 34\n",
      "35 : ['buzz']\n",
      "36 : ['fizz']\n",
      "37 : 37\n",
      "38 : 38\n",
      "39 : ['fizz']\n",
      "40 : ['buzz']\n",
      "41 : 41\n",
      "42 : ['fizz']\n",
      "43 : 43\n",
      "44 : 44\n",
      "45 : ['fizz', 'buzz', 'fizzbuzz']\n",
      "46 : 46\n",
      "47 : 47\n",
      "48 : ['fizz']\n",
      "49 : 49\n",
      "50 : ['buzz']\n",
      "51 : ['fizz']\n",
      "52 : 52\n",
      "53 : 53\n",
      "54 : ['fizz']\n",
      "55 : ['buzz']\n",
      "56 : 56\n",
      "57 : ['fizz']\n",
      "58 : 58\n",
      "59 : 59\n",
      "60 : ['fizz', 'buzz', 'fizzbuzz']\n",
      "61 : 61\n",
      "62 : 62\n",
      "63 : ['fizz']\n",
      "64 : 64\n",
      "65 : ['buzz']\n",
      "66 : ['fizz']\n",
      "67 : 67\n",
      "68 : 68\n",
      "69 : ['fizz']\n",
      "70 : ['buzz']\n",
      "71 : 71\n",
      "72 : ['fizz']\n",
      "73 : 73\n",
      "74 : 74\n",
      "75 : ['fizz', 'buzz', 'fizzbuzz']\n",
      "76 : 76\n",
      "77 : 77\n",
      "78 : ['fizz']\n",
      "79 : 79\n",
      "80 : ['buzz']\n",
      "81 : ['fizz']\n",
      "82 : 82\n",
      "83 : 83\n",
      "84 : ['fizz']\n",
      "85 : ['buzz']\n",
      "86 : 86\n",
      "87 : ['fizz']\n",
      "88 : 88\n",
      "89 : 89\n",
      "90 : ['fizz', 'buzz', 'fizzbuzz']\n",
      "91 : 91\n",
      "92 : 92\n",
      "93 : ['fizz']\n",
      "94 : 94\n",
      "95 : ['buzz']\n",
      "96 : ['fizz']\n",
      "97 : 97\n",
      "98 : 98\n",
      "99 : ['fizz']\n",
      "100 : ['buzz']\n"
     ]
    }
   ],
   "source": [
    "# 숙제\n",
    "# 1부터 100까지 정수에 대해서 반복 수행하는\n",
    "\n",
    "# 3의 배수라면 \"fizz\"\n",
    "# 5의 배수라면 \"buzz\"\n",
    "# 15의 배수라면 \"fizzbuzz\"\n",
    "# 나머지 모든 수는 그냥 그 수를 출력하는\n",
    "# 코드블록을 생성하시오.\n",
    "\n",
    "for i in range(1,100+1):\n",
    "    \n",
    "    isFizz = False\n",
    "    isbuzz = False\n",
    "    isfizzbuzz = False\n",
    "    list_text = []\n",
    "        \n",
    "    if i % 3 == 0:\n",
    "        #print(\"fizz\")\n",
    "        isFizz = True\n",
    "    if i % 5 == 0:\n",
    "        #print(\"buzz\")\n",
    "        isbuzz = True\n",
    "    if i % 15 == 0:\n",
    "        #print(\"fizzbuzz\")\n",
    "        isfizzbuzz = True\n",
    "#     else:\n",
    "#         isFizz = False\n",
    "#         isbuzz = False\n",
    "#         isfizzbuzz = False\n",
    "    \n",
    "    if isFizz == True:\n",
    "#         print(\"fizz\")\n",
    "        list_text.append(\"fizz\")\n",
    "    if isbuzz == True:\n",
    "#         print(\"buzz\")\n",
    "        list_text.append(\"buzz\")\n",
    "    if isfizzbuzz == True:\n",
    "#         print(\"fizzbuzz\")\n",
    "        list_text.append(\"fizzbuzz\")\n",
    "    if isFizz == False and isbuzz == False and isfizzbuzz == False:\n",
    "        print(\"{} : {}\".format(i,i))\n",
    "    else:\n",
    "        print(\"{} : {}\".format(i,list_text))\n",
    "    \n",
    "        \n",
    "    \n",
    "    \n",
    "        "
   ]
  },
  {
   "cell_type": "code",
   "execution_count": 141,
   "metadata": {},
   "outputs": [
    {
     "name": "stdout",
     "output_type": "stream",
     "text": [
      "1 : 1\n",
      "2 : 2\n",
      "3 : ['fizz']\n",
      "4 : 4\n",
      "5 : ['buzz']\n",
      "6 : ['fizz']\n",
      "7 : 7\n",
      "8 : 8\n",
      "9 : ['fizz']\n",
      "10 : ['buzz']\n",
      "11 : 11\n",
      "12 : ['fizz']\n",
      "13 : 13\n",
      "14 : 14\n",
      "15 : ['fizz', 'buzz', 'fizzbuzz']\n",
      "16 : 16\n",
      "17 : 17\n",
      "18 : ['fizz']\n",
      "19 : 19\n",
      "20 : ['buzz']\n",
      "21 : ['fizz']\n",
      "22 : 22\n",
      "23 : 23\n",
      "24 : ['fizz']\n",
      "25 : ['buzz']\n",
      "26 : 26\n",
      "27 : ['fizz']\n",
      "28 : 28\n",
      "29 : 29\n",
      "30 : ['fizz', 'buzz', 'fizzbuzz']\n",
      "31 : 31\n",
      "32 : 32\n",
      "33 : ['fizz']\n",
      "34 : 34\n",
      "35 : ['buzz']\n",
      "36 : ['fizz']\n",
      "37 : 37\n",
      "38 : 38\n",
      "39 : ['fizz']\n",
      "40 : ['buzz']\n",
      "41 : 41\n",
      "42 : ['fizz']\n",
      "43 : 43\n",
      "44 : 44\n",
      "45 : ['fizz', 'buzz', 'fizzbuzz']\n",
      "46 : 46\n",
      "47 : 47\n",
      "48 : ['fizz']\n",
      "49 : 49\n",
      "50 : ['buzz']\n",
      "51 : ['fizz']\n",
      "52 : 52\n",
      "53 : 53\n",
      "54 : ['fizz']\n",
      "55 : ['buzz']\n",
      "56 : 56\n",
      "57 : ['fizz']\n",
      "58 : 58\n",
      "59 : 59\n",
      "60 : ['fizz', 'buzz', 'fizzbuzz']\n",
      "61 : 61\n",
      "62 : 62\n",
      "63 : ['fizz']\n",
      "64 : 64\n",
      "65 : ['buzz']\n",
      "66 : ['fizz']\n",
      "67 : 67\n",
      "68 : 68\n",
      "69 : ['fizz']\n",
      "70 : ['buzz']\n",
      "71 : 71\n",
      "72 : ['fizz']\n",
      "73 : 73\n",
      "74 : 74\n",
      "75 : ['fizz', 'buzz', 'fizzbuzz']\n",
      "76 : 76\n",
      "77 : 77\n",
      "78 : ['fizz']\n",
      "79 : 79\n",
      "80 : ['buzz']\n",
      "81 : ['fizz']\n",
      "82 : 82\n",
      "83 : 83\n",
      "84 : ['fizz']\n",
      "85 : ['buzz']\n",
      "86 : 86\n",
      "87 : ['fizz']\n",
      "88 : 88\n",
      "89 : 89\n",
      "90 : ['fizz', 'buzz', 'fizzbuzz']\n",
      "91 : 91\n",
      "92 : 92\n",
      "93 : ['fizz']\n",
      "94 : 94\n",
      "95 : ['buzz']\n",
      "96 : ['fizz']\n",
      "97 : 97\n",
      "98 : 98\n",
      "99 : ['fizz']\n",
      "100 : ['buzz']\n"
     ]
    }
   ],
   "source": [
    "for i in range(1,100+1):\n",
    "    \n",
    "    list_text = []\n",
    "        \n",
    "    if i % 3 == 0:\n",
    "        list_text.append(\"fizz\")\n",
    "    if i % 5 == 0:\n",
    "        list_text.append(\"buzz\")\n",
    "    if i % 15 == 0:\n",
    "        list_text.append(\"fizzbuzz\")\n",
    "        \n",
    "    if len(list_text) == 0:\n",
    "        print(\"{} : {}\".format(i,i))\n",
    "    else:\n",
    "        print(\"{} : {}\".format(i,list_text))"
   ]
  },
  {
   "cell_type": "code",
   "execution_count": 134,
   "metadata": {},
   "outputs": [
    {
     "name": "stdout",
     "output_type": "stream",
     "text": [
      "1 : 1\n",
      "2 : 2\n",
      "3 : ['fizz']\n",
      "4 : 4\n",
      "5 : ['buzz']\n",
      "6 : ['fizz']\n",
      "7 : 7\n",
      "8 : 8\n",
      "9 : ['fizz']\n",
      "10 : ['buzz']\n",
      "11 : 11\n",
      "12 : ['fizz']\n",
      "13 : 13\n",
      "14 : 14\n",
      "15 : ['fizz', 'buzz', 'fizzbuzz']\n",
      "16 : 16\n",
      "17 : 17\n",
      "18 : ['fizz']\n",
      "19 : 19\n",
      "20 : ['buzz']\n",
      "21 : ['fizz']\n",
      "22 : 22\n",
      "23 : 23\n",
      "24 : ['fizz']\n",
      "25 : ['buzz']\n",
      "26 : 26\n",
      "27 : ['fizz']\n",
      "28 : 28\n",
      "29 : 29\n",
      "30 : ['fizz', 'buzz', 'fizzbuzz']\n",
      "31 : 31\n",
      "32 : 32\n",
      "33 : ['fizz']\n",
      "34 : 34\n",
      "35 : ['buzz']\n",
      "36 : ['fizz']\n",
      "37 : 37\n",
      "38 : 38\n",
      "39 : ['fizz']\n",
      "40 : ['buzz']\n",
      "41 : 41\n",
      "42 : ['fizz']\n",
      "43 : 43\n",
      "44 : 44\n",
      "45 : ['fizz', 'buzz', 'fizzbuzz']\n",
      "46 : 46\n",
      "47 : 47\n",
      "48 : ['fizz']\n",
      "49 : 49\n",
      "50 : ['buzz']\n",
      "51 : ['fizz']\n",
      "52 : 52\n",
      "53 : 53\n",
      "54 : ['fizz']\n",
      "55 : ['buzz']\n",
      "56 : 56\n",
      "57 : ['fizz']\n",
      "58 : 58\n",
      "59 : 59\n",
      "60 : ['fizz', 'buzz', 'fizzbuzz']\n",
      "61 : 61\n",
      "62 : 62\n",
      "63 : ['fizz']\n",
      "64 : 64\n",
      "65 : ['buzz']\n",
      "66 : ['fizz']\n",
      "67 : 67\n",
      "68 : 68\n",
      "69 : ['fizz']\n",
      "70 : ['buzz']\n",
      "71 : 71\n",
      "72 : ['fizz']\n",
      "73 : 73\n",
      "74 : 74\n",
      "75 : ['fizz', 'buzz', 'fizzbuzz']\n",
      "76 : 76\n",
      "77 : 77\n",
      "78 : ['fizz']\n",
      "79 : 79\n",
      "80 : ['buzz']\n",
      "81 : ['fizz']\n",
      "82 : 82\n",
      "83 : 83\n",
      "84 : ['fizz']\n",
      "85 : ['buzz']\n",
      "86 : 86\n",
      "87 : ['fizz']\n",
      "88 : 88\n",
      "89 : 89\n",
      "90 : ['fizz', 'buzz', 'fizzbuzz']\n",
      "91 : 91\n",
      "92 : 92\n",
      "93 : ['fizz']\n",
      "94 : 94\n",
      "95 : ['buzz']\n",
      "96 : ['fizz']\n",
      "97 : 97\n",
      "98 : 98\n",
      "99 : ['fizz']\n",
      "100 : ['buzz']\n"
     ]
    }
   ],
   "source": [
    "for i in range(1,100+1):\n",
    "   \n",
    "   list_text = []\n",
    "       \n",
    "   if i % 3 == 0:\n",
    "       list_text.append('fizz')\n",
    "   if i % 5 == 0:\n",
    "       list_text.append('buzz')\n",
    "   if i % 15 == 0:\n",
    "       list_text.append('fizzbuzz')\n",
    "       \n",
    "   if i % 3 != 0 and i % 5 != 0 and i % 15 != 0:\n",
    "       print('{} : {}'.format(i,i))\n",
    "   else:\n",
    "       print('{} : {}'.format(i,list_text))"
   ]
  }
 ],
 "metadata": {
  "kernelspec": {
   "display_name": "Python 3",
   "language": "python",
   "name": "python3"
  },
  "language_info": {
   "codemirror_mode": {
    "name": "ipython",
    "version": 3
   },
   "file_extension": ".py",
   "mimetype": "text/x-python",
   "name": "python",
   "nbconvert_exporter": "python",
   "pygments_lexer": "ipython3",
   "version": "3.6.5"
  }
 },
 "nbformat": 4,
 "nbformat_minor": 2
}
