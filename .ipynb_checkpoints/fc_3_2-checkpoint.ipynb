{
 "cells": [
  {
   "cell_type": "markdown",
   "metadata": {},
   "source": [
    "## OOP part2 클래스간의 관계"
   ]
  },
  {
   "cell_type": "code",
   "execution_count": 4,
   "metadata": {},
   "outputs": [],
   "source": [
    "# 파이썬 구조 파악\n",
    "# 패키지 -> pip installer\n",
    "# 터미널에서 패키지 폴더로 사용할 폴더로 가서 아래와 같이\n",
    "# touch __init__.py -> 패키지 폴더로 사용한다는 의미????\n",
    "# 아래 폴더들도 위와 같이 함\n",
    "\n",
    "# __init__.py 파일은 해당 디렉터리가 패키지의 일부임을 알려주는 역할을 한다. \n",
    "# 만약 game, sound, graphic등 패키지에 포함된 디렉터리에 __init__.py 파일이 없다면 패키지로 인식되지 않는다.\n",
    "\n",
    "# 패키지를 인식시키기 위해서는 아래와 같이 해야함\n",
    "# bingates@koui-MacBook-Air  ~/Dev/jupyter/oop   master  python3\n",
    "# Python 3.6.5 |Anaconda, Inc.| (default, Mar 29 2018, 13:14:23)\n",
    "# [GCC 4.2.1 Compatible Clang 4.0.1 (tags/RELEASE_401/final)] on darwin\n",
    "# Type \"help\", \"copyright\", \"credits\" or \"license\" for more information.\n",
    "# >>> import sys\n",
    "# >>> sys.path\n",
    "# ['', '/Users/bingates/miniconda3/lib/python36.zip', '/Users/bingates/miniconda3/lib/python3.6', '/Users/bingates/miniconda3/lib/python3.6/lib-dynload', '/Users/bingates/miniconda3/lib/python3.6/site-packages']\n",
    "\n",
    "# '/Users/bingates/miniconda3/lib/python3.6/site-packages' 여기다가 패키지로 사용할 폴더를 복사해 줘야 함\n",
    "\n",
    "\n",
    "# 패키지를 나만의 공간으로 만들어 인식시킴\n",
    "# >>> import sys\n",
    "# >>> sys.path -> 안에 내가 만든 경로를 넣으면 됨\n",
    "# PYTHONPATH 환경 변수를 사용하는 방법\n",
    "# PYTHONPATH=/Users/bingates/Dev/jupyter/custom-packages\n",
    "\n",
    "# vi .bash_profile 에\n",
    "# export PYTHONPATH=/Users/bingates/Dev/jupyter/custom-packages\n",
    "# mac에서 안됨"
   ]
  },
  {
   "cell_type": "markdown",
   "metadata": {},
   "source": [
    "## 클래스간의 관계 (relation)"
   ]
  },
  {
   "cell_type": "code",
   "execution_count": 2,
   "metadata": {},
   "outputs": [],
   "source": [
    "#  IS-A\n",
    "#     -> **는 **의 일종이다\n",
    "#     -> 랩탑은 컴퓨터다\n",
    "#     -> 상속\n",
    "\n",
    "#  HAS-A\n",
    "#     -> 경찰이 총을 가지고 있다\n",
    "#     -> 어떤클래스가/이 어떤클래스를/을 포함한다(가지고있다)\n",
    "#     -> composition(합성), agglegation(통합) 기법"
   ]
  },
  {
   "cell_type": "code",
   "execution_count": 6,
   "metadata": {},
   "outputs": [],
   "source": [
    "class Computer: # super, base(기본), parent class 라 부름\n",
    "    def __init__(self, cpu, ram):\n",
    "        self.cpu=cpu\n",
    "        self.ram=ram\n",
    "        \n",
    "    def browse(self):\n",
    "        print('browse')\n",
    "        \n",
    "    def work(self):\n",
    "        print('work')"
   ]
  },
  {
   "cell_type": "code",
   "execution_count": 8,
   "metadata": {},
   "outputs": [
    {
     "ename": "TypeError",
     "evalue": "__init__() missing 1 required positional argument: 'battery'",
     "output_type": "error",
     "traceback": [
      "\u001b[0;31m---------------------------------------------------------------------------\u001b[0m",
      "\u001b[0;31mTypeError\u001b[0m                                 Traceback (most recent call last)",
      "\u001b[0;32m<ipython-input-8-0ed802d8cb6e>\u001b[0m in \u001b[0;36m<module>\u001b[0;34m()\u001b[0m\n\u001b[1;32m     14\u001b[0m         \u001b[0mprint\u001b[0m\u001b[0;34m(\u001b[0m\u001b[0;34m'move to {}'\u001b[0m\u001b[0;34m.\u001b[0m\u001b[0mformat\u001b[0m\u001b[0;34m(\u001b[0m\u001b[0mto\u001b[0m\u001b[0;34m)\u001b[0m\u001b[0;34m)\u001b[0m\u001b[0;34m\u001b[0m\u001b[0m\n\u001b[1;32m     15\u001b[0m \u001b[0;34m\u001b[0m\u001b[0m\n\u001b[0;32m---> 16\u001b[0;31m \u001b[0mlap\u001b[0m\u001b[0;34m=\u001b[0m\u001b[0mLaptop\u001b[0m\u001b[0;34m(\u001b[0m\u001b[0;34m'intel'\u001b[0m\u001b[0;34m,\u001b[0m \u001b[0;36m32\u001b[0m\u001b[0;34m)\u001b[0m\u001b[0;34m\u001b[0m\u001b[0m\n\u001b[0m\u001b[1;32m     17\u001b[0m \u001b[0mlap\u001b[0m\u001b[0;34m.\u001b[0m\u001b[0mcpu\u001b[0m\u001b[0;34m\u001b[0m\u001b[0m\n",
      "\u001b[0;31mTypeError\u001b[0m: __init__() missing 1 required positional argument: 'battery'"
     ]
    }
   ],
   "source": [
    "# 모든 멤버와 메서드를 사용해야 상속해야함\n",
    "# 상속은 반드시 멤버추가시 or 메서드추가시 한다\n",
    "class Laptop(Computer): # 파생(derived), child, sub class 라 부름\n",
    "    # Computer 의 모든 멤버와 메서드를 가지고 있음\n",
    "    # 재사용성!!!\n",
    "    \n",
    "    # 멤버 추가시\n",
    "    def __init__(self, cpu, ram, battery):\n",
    "        super().__init__(cpu, ram)\n",
    "        self.battery=battery\n",
    "        \n",
    "    # 메서드 추가시\n",
    "    def move(self, to):\n",
    "        print('move to {}'.format(to))\n",
    "\n",
    "lap=Laptop('intel', 32)\n",
    "lap.cpu"
   ]
  },
  {
   "cell_type": "code",
   "execution_count": 5,
   "metadata": {},
   "outputs": [
    {
     "name": "stdout",
     "output_type": "stream",
     "text": [
      "work\n"
     ]
    }
   ],
   "source": [
    "lap.work()"
   ]
  },
  {
   "cell_type": "markdown",
   "metadata": {},
   "source": [
    "## composition -> has-a"
   ]
  },
  {
   "cell_type": "code",
   "execution_count": null,
   "metadata": {},
   "outputs": [],
   "source": [
    "# same life cycle -> 컴퓨터와 부품(ram, cpu)의 관계 (구입,폐기 동시에)\n",
    "# strong coupling\n",
    "\n",
    "class CPU:\n",
    "    pass\n",
    "\n",
    "class RAM:\n",
    "    pass\n",
    "\n",
    "class Computer_1:\n",
    "    def __init__(self):\n",
    "        self.cpu=CPU() # Has-a 관계일때\n",
    "        self.ram=RAM() # 멤버들이 외부 객체를 가짐\n"
   ]
  },
  {
   "cell_type": "markdown",
   "metadata": {},
   "source": [
    "## aggression -> has-a"
   ]
  },
  {
   "cell_type": "code",
   "execution_count": 9,
   "metadata": {},
   "outputs": [],
   "source": [
    "# Not same life cycle\n",
    "#\n",
    "\n",
    "class Gun:\n",
    "    def __init__(self, kind):\n",
    "        self.kind=kind\n",
    "        \n",
    "    def bang(self):\n",
    "        print('bang bang!')\n",
    "        \n",
    "class Police:\n",
    "    def __init__(self):\n",
    "        self.gun=None\n",
    "        \n",
    "    def acquire_gun(self, gun):\n",
    "        self.gun=gun\n",
    "        \n",
    "    def release_gun(self):\n",
    "        gun=self.gun\n",
    "        self.gun=None\n",
    "        return gun\n",
    "    \n",
    "    def shoot(self):\n",
    "        if self.gun:\n",
    "            self.gun.bang()\n",
    "        else:\n",
    "            print('Unable to shoot')"
   ]
  },
  {
   "cell_type": "code",
   "execution_count": 12,
   "metadata": {},
   "outputs": [
    {
     "name": "stdout",
     "output_type": "stream",
     "text": [
      "Unable to shoot\n"
     ]
    }
   ],
   "source": [
    "revolver=Gun('revolver')\n",
    "new_pol=Police()\n",
    "new_pol.shoot()"
   ]
  },
  {
   "cell_type": "code",
   "execution_count": 13,
   "metadata": {},
   "outputs": [
    {
     "name": "stdout",
     "output_type": "stream",
     "text": [
      "bang bang!\n"
     ]
    }
   ],
   "source": [
    "new_pol.acquire_gun(revolver)\n",
    "revolver=None\n",
    "new_pol.shoot()\n",
    "\n",
    "# 생성 사이클이 다름"
   ]
  },
  {
   "cell_type": "code",
   "execution_count": 14,
   "metadata": {},
   "outputs": [],
   "source": [
    "revolver=new_pol.release_gun()"
   ]
  },
  {
   "cell_type": "code",
   "execution_count": 15,
   "metadata": {},
   "outputs": [
    {
     "data": {
      "text/plain": [
       "<__main__.Gun at 0x108cd04a8>"
      ]
     },
     "execution_count": 15,
     "metadata": {},
     "output_type": "execute_result"
    }
   ],
   "source": [
    "revolver"
   ]
  },
  {
   "cell_type": "code",
   "execution_count": 16,
   "metadata": {},
   "outputs": [
    {
     "name": "stdout",
     "output_type": "stream",
     "text": [
      "Unable to shoot\n"
     ]
    }
   ],
   "source": [
    "new_pol.shoot()"
   ]
  },
  {
   "cell_type": "markdown",
   "metadata": {},
   "source": [
    "## 다형성 (Polymorphism) -> 상속(Inheritance)"
   ]
  },
  {
   "cell_type": "code",
   "execution_count": 43,
   "metadata": {},
   "outputs": [],
   "source": [
    "# 다형성 정의? 상속을 할때 같은 이름의 메서드를 호출하면 그 메서드를 호출하는 객체가 서로 다르기 때문에 그 결과값이 서로 다른 것\n",
    "# 다형성은 메서드 오버라이딩(method overriding)로 구현함\n",
    "# 파이썬에는 메서드 오버로딩은 없음"
   ]
  },
  {
   "cell_type": "markdown",
   "metadata": {},
   "source": [
    "### 메서드 오버라이딩(method overriding)"
   ]
  },
  {
   "cell_type": "code",
   "execution_count": 40,
   "metadata": {},
   "outputs": [],
   "source": [
    "class CarOwner:\n",
    "    def __init__(self, name):\n",
    "        self.name=name\n",
    "    def concentrate(self):\n",
    "        print('{}은 집중하느라 아무것도 못합니다.'.format(self.name))\n",
    "\n",
    "class Car:\n",
    "    def __init__(self, owner_name):\n",
    "        self.carowner=CarOwner(owner_name)\n",
    "    def drive(self):\n",
    "        self.carowner.concentrate()\n",
    "        print('{}가 운전을 하고 있습니다.'.format(self.carowner.name))\n",
    "        \n",
    "class SelfDrivingCar(Car):\n",
    "    # SELFDRIINGCAR is \n",
    "    # 메서드 오버라이딩(method overriding)\n",
    "    # 자식 클래스가 부모 클래스에 이미 있는 메서드를 재정의 하는 것\n",
    "    # 자식 클래스 메서드의 기능이 달라졌을 때\n",
    "    def drive(self):\n",
    "        print('차가 운전합니다. 운전자는 지금 놀고 있어요.')\n",
    "        \n",
    "# c=Car('ko')\n",
    "# c.drive()"
   ]
  },
  {
   "cell_type": "code",
   "execution_count": 41,
   "metadata": {},
   "outputs": [
    {
     "name": "stdout",
     "output_type": "stream",
     "text": [
      "차가 운전합니다. 운전자는 지금 놀고 있어요.\n"
     ]
    }
   ],
   "source": [
    "sdc=SelfDrivingCar('yang')\n",
    "sdc.drive()"
   ]
  },
  {
   "cell_type": "markdown",
   "metadata": {},
   "source": [
    "## 다형성 구현 예"
   ]
  },
  {
   "cell_type": "code",
   "execution_count": 42,
   "metadata": {},
   "outputs": [
    {
     "name": "stdout",
     "output_type": "stream",
     "text": [
      "ko은 집중하느라 아무것도 못합니다.\n",
      "ko가 운전을 하고 있습니다.\n",
      "차가 운전합니다. 운전자는 지금 놀고 있어요.\n",
      "차가 운전합니다. 운전자는 지금 놀고 있어요.\n"
     ]
    }
   ],
   "source": [
    "normal_car=Car('ko')\n",
    "self_car=SelfDrivingCar('park')\n",
    "self_car2=SelfDrivingCar('kim')\n",
    "\n",
    "cars=[]\n",
    "cars.append(normal_car)\n",
    "cars.append(self_car)\n",
    "cars.append(self_car2)\n",
    "\n",
    "for car in cars:\n",
    "    car.drive() # 같은코드 : 동일한 메서드를 호출했는데 결과는 다름"
   ]
  },
  {
   "cell_type": "markdown",
   "metadata": {},
   "source": [
    "## 추상 클래스 (abstract class)"
   ]
  },
  {
   "cell_type": "code",
   "execution_count": 49,
   "metadata": {},
   "outputs": [
    {
     "name": "stdout",
     "output_type": "stream",
     "text": [
      "eat meat\n",
      "eat grass\n",
      "eat meat and grass\n"
     ]
    }
   ],
   "source": [
    "# 추상클래스정의\n",
    "#     -> 객체를 만들수 없습니다!!!!!!\n",
    "#     -> 추상 메서드를 하나 이상 가져야 한다\n",
    "#     -> 추상 메서드 : 함수 몸체가 없음\n",
    "        \n",
    "from abc import ABCMeta, abstractmethod\n",
    "    \n",
    "class Animal(metaclass=ABCMeta):\n",
    "    # 자식 클래스에서 반드시 재정의해야 한다!!!!! -> 메서드 오버라이딩 해야 함\n",
    "    @abstractmethod\n",
    "    def eat(self):\n",
    "        pass\n",
    "\n",
    "class Lion(Animal):\n",
    "    def eat(self):\n",
    "        print('eat meat')\n",
    "        \n",
    "class Deer(Animal):\n",
    "    def eat(self):\n",
    "        print('eat grass')\n",
    "        \n",
    "class Human(Animal):\n",
    "    def eat(self):\n",
    "        print('eat meat and grass')\n",
    "        \n",
    "        \n",
    "animals=[]\n",
    "animals.append(Lion())\n",
    "animals.append(Deer())\n",
    "animals.append(Human())\n",
    "\n",
    "for animal in animals:\n",
    "    animal.eat()"
   ]
  },
  {
   "cell_type": "code",
   "execution_count": 50,
   "metadata": {},
   "outputs": [
    {
     "ename": "TypeError",
     "evalue": "Can't instantiate abstract class Animal with abstract methods eat",
     "output_type": "error",
     "traceback": [
      "\u001b[0;31m---------------------------------------------------------------------------\u001b[0m",
      "\u001b[0;31mTypeError\u001b[0m                                 Traceback (most recent call last)",
      "\u001b[0;32m<ipython-input-50-6bca41b5493b>\u001b[0m in \u001b[0;36m<module>\u001b[0;34m()\u001b[0m\n\u001b[0;32m----> 1\u001b[0;31m \u001b[0ma\u001b[0m\u001b[0;34m=\u001b[0m\u001b[0mAnimal\u001b[0m\u001b[0;34m(\u001b[0m\u001b[0;34m)\u001b[0m \u001b[0;31m# 추상클래스는 객체 생성 못함\u001b[0m\u001b[0;34m\u001b[0m\u001b[0m\n\u001b[0m",
      "\u001b[0;31mTypeError\u001b[0m: Can't instantiate abstract class Animal with abstract methods eat"
     ]
    }
   ],
   "source": [
    "a=Animal() # 추상클래스는 객체 생성 못함"
   ]
  },
  {
   "cell_type": "markdown",
   "metadata": {},
   "source": [
    "##  MRO 개념???"
   ]
  },
  {
   "cell_type": "markdown",
   "metadata": {},
   "source": [
    "## Iterator -> 목적 : 퍼포먼스를 위해 짱!!!"
   ]
  },
  {
   "cell_type": "code",
   "execution_count": 51,
   "metadata": {},
   "outputs": [],
   "source": [
    "# iterable 객체 -> 순회 가능한 객체\n",
    "#     -> list, tuple, 문자열 .....\n",
    "\n",
    "# Iterator 객체 정의\n",
    "#     -> __iter__ 가 있어야 한다 -> iter()\n",
    "#     -> __next__ 가 있어야 한다 -> next()\n",
    "#     -> 모든 데이터를 소진한 후 StopIteration 에러를 반환해야 한다."
   ]
  },
  {
   "cell_type": "code",
   "execution_count": 56,
   "metadata": {},
   "outputs": [
    {
     "name": "stdout",
     "output_type": "stream",
     "text": [
      "<class 'list'>\n"
     ]
    }
   ],
   "source": [
    "li=[1,2,3,4]\n",
    "# for elem in li: -> list_iterator 로 변환됨\n",
    "print(type(li))\n",
    "i_li=iter(li)"
   ]
  },
  {
   "cell_type": "code",
   "execution_count": 57,
   "metadata": {},
   "outputs": [
    {
     "data": {
      "text/plain": [
       "<list_iterator at 0x108c92c88>"
      ]
     },
     "execution_count": 57,
     "metadata": {},
     "output_type": "execute_result"
    }
   ],
   "source": [
    "i_li"
   ]
  },
  {
   "cell_type": "code",
   "execution_count": 58,
   "metadata": {},
   "outputs": [
    {
     "data": {
      "text/plain": [
       "1"
      ]
     },
     "execution_count": 58,
     "metadata": {},
     "output_type": "execute_result"
    }
   ],
   "source": [
    "next(i_li)"
   ]
  },
  {
   "cell_type": "code",
   "execution_count": 69,
   "metadata": {},
   "outputs": [],
   "source": [
    "# Iterator 객체는 메모리에 저장하지 않음 next 함수 호출시에만 잠시 메모리를 사용함\n",
    "\n",
    "class It:\n",
    "    def __init__(self, *args):\n",
    "        self.data=args # 튜플로 들어옴\n",
    "        self.idx=0\n",
    "        \n",
    "    def __iter__(self):\n",
    "        return self\n",
    "    \n",
    "    def __next__(self):\n",
    "        if self.idx >= len(self.data):\n",
    "            raise StopIteration\n",
    "        ret=self.data[self.idx]\n",
    "        self.idx+=1\n",
    "        return ret\n",
    "    \n",
    "li=[4,6,1,7]\n",
    "it=It(*li)\n",
    "it=iter(it)"
   ]
  },
  {
   "cell_type": "code",
   "execution_count": 70,
   "metadata": {},
   "outputs": [
    {
     "name": "stdout",
     "output_type": "stream",
     "text": [
      "4\n",
      "6\n",
      "1\n",
      "7\n"
     ]
    }
   ],
   "source": [
    "# next(it)\n",
    "\n",
    "# 보통 아래와 같이 사용함\n",
    "for elem in it:\n",
    "    print(elem)"
   ]
  },
  {
   "cell_type": "code",
   "execution_count": 94,
   "metadata": {},
   "outputs": [],
   "source": [
    "class FileReader:\n",
    "    def __init__(self, filename):\n",
    "        self.f=open(filename, 'rb')\n",
    "    \n",
    "    def __iter__(self):\n",
    "        pass\n",
    "    \n",
    "    def __next__(self):\n",
    "        line=self.f.readline()\n",
    "        if not line:\n",
    "            raise StopIteration\n",
    "        return line"
   ]
  },
  {
   "cell_type": "code",
   "execution_count": 95,
   "metadata": {},
   "outputs": [
    {
     "ename": "TypeError",
     "evalue": "iter() returned non-iterator of type 'NoneType'",
     "output_type": "error",
     "traceback": [
      "\u001b[0;31m---------------------------------------------------------------------------\u001b[0m",
      "\u001b[0;31mTypeError\u001b[0m                                 Traceback (most recent call last)",
      "\u001b[0;32m<ipython-input-95-cfbcb5805485>\u001b[0m in \u001b[0;36m<module>\u001b[0;34m()\u001b[0m\n\u001b[1;32m      1\u001b[0m \u001b[0mfr\u001b[0m\u001b[0;34m=\u001b[0m\u001b[0mFileReader\u001b[0m\u001b[0;34m(\u001b[0m\u001b[0;34m'test.txt'\u001b[0m\u001b[0;34m)\u001b[0m\u001b[0;34m\u001b[0m\u001b[0m\n\u001b[0;32m----> 2\u001b[0;31m \u001b[0mit_fr\u001b[0m\u001b[0;34m=\u001b[0m\u001b[0miter\u001b[0m\u001b[0;34m(\u001b[0m\u001b[0mfr\u001b[0m\u001b[0;34m)\u001b[0m\u001b[0;34m\u001b[0m\u001b[0m\n\u001b[0m",
      "\u001b[0;31mTypeError\u001b[0m: iter() returned non-iterator of type 'NoneType'"
     ]
    }
   ],
   "source": [
    "fr=FileReader('test.txt')\n",
    "it_fr=iter(fr)"
   ]
  },
  {
   "cell_type": "code",
   "execution_count": 88,
   "metadata": {},
   "outputs": [
    {
     "ename": "StopIteration",
     "evalue": "",
     "output_type": "error",
     "traceback": [
      "\u001b[0;31m---------------------------------------------------------------------------\u001b[0m",
      "\u001b[0;31mStopIteration\u001b[0m                             Traceback (most recent call last)",
      "\u001b[0;32m<ipython-input-88-bc1ab118995a>\u001b[0m in \u001b[0;36m<module>\u001b[0;34m()\u001b[0m\n\u001b[0;32m----> 1\u001b[0;31m \u001b[0mnext\u001b[0m\u001b[0;34m(\u001b[0m\u001b[0mit\u001b[0m\u001b[0;34m)\u001b[0m\u001b[0;34m\u001b[0m\u001b[0m\n\u001b[0m",
      "\u001b[0;32m<ipython-input-69-74b57ebc18bc>\u001b[0m in \u001b[0;36m__next__\u001b[0;34m(self)\u001b[0m\n\u001b[1;32m     11\u001b[0m     \u001b[0;32mdef\u001b[0m \u001b[0m__next__\u001b[0m\u001b[0;34m(\u001b[0m\u001b[0mself\u001b[0m\u001b[0;34m)\u001b[0m\u001b[0;34m:\u001b[0m\u001b[0;34m\u001b[0m\u001b[0m\n\u001b[1;32m     12\u001b[0m         \u001b[0;32mif\u001b[0m \u001b[0mself\u001b[0m\u001b[0;34m.\u001b[0m\u001b[0midx\u001b[0m \u001b[0;34m>=\u001b[0m \u001b[0mlen\u001b[0m\u001b[0;34m(\u001b[0m\u001b[0mself\u001b[0m\u001b[0;34m.\u001b[0m\u001b[0mdata\u001b[0m\u001b[0;34m)\u001b[0m\u001b[0;34m:\u001b[0m\u001b[0;34m\u001b[0m\u001b[0m\n\u001b[0;32m---> 13\u001b[0;31m             \u001b[0;32mraise\u001b[0m \u001b[0mStopIteration\u001b[0m\u001b[0;34m\u001b[0m\u001b[0m\n\u001b[0m\u001b[1;32m     14\u001b[0m         \u001b[0mret\u001b[0m\u001b[0;34m=\u001b[0m\u001b[0mself\u001b[0m\u001b[0;34m.\u001b[0m\u001b[0mdata\u001b[0m\u001b[0;34m[\u001b[0m\u001b[0mself\u001b[0m\u001b[0;34m.\u001b[0m\u001b[0midx\u001b[0m\u001b[0;34m]\u001b[0m\u001b[0;34m\u001b[0m\u001b[0m\n\u001b[1;32m     15\u001b[0m         \u001b[0mself\u001b[0m\u001b[0;34m.\u001b[0m\u001b[0midx\u001b[0m\u001b[0;34m+=\u001b[0m\u001b[0;36m1\u001b[0m\u001b[0;34m\u001b[0m\u001b[0m\n",
      "\u001b[0;31mStopIteration\u001b[0m: "
     ]
    }
   ],
   "source": [
    "next(it)"
   ]
  },
  {
   "cell_type": "code",
   "execution_count": 75,
   "metadata": {},
   "outputs": [],
   "source": [
    "f=open('test.txt', 'rt')\n",
    "result=f.readline()"
   ]
  },
  {
   "cell_type": "code",
   "execution_count": 76,
   "metadata": {},
   "outputs": [
    {
     "data": {
      "text/plain": [
       "'저는 배고픕니다.\\n'"
      ]
     },
     "execution_count": 76,
     "metadata": {},
     "output_type": "execute_result"
    }
   ],
   "source": [
    "result"
   ]
  },
  {
   "cell_type": "code",
   "execution_count": null,
   "metadata": {},
   "outputs": [],
   "source": []
  }
 ],
 "metadata": {
  "kernelspec": {
   "display_name": "Python 3",
   "language": "python",
   "name": "python3"
  },
  "language_info": {
   "codemirror_mode": {
    "name": "ipython",
    "version": 3
   },
   "file_extension": ".py",
   "mimetype": "text/x-python",
   "name": "python",
   "nbconvert_exporter": "python",
   "pygments_lexer": "ipython3",
   "version": "3.6.5"
  }
 },
 "nbformat": 4,
 "nbformat_minor": 2
}
