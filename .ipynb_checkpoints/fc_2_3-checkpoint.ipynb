{
 "cells": [
  {
   "cell_type": "code",
   "execution_count": 1,
   "metadata": {},
   "outputs": [],
   "source": [
    "# class\n",
    "# iterator\n",
    "# generator\n",
    "# coroutine -> thread, async -> con currency 동시성\n",
    "\n",
    "\n",
    "# 음수는 2의 보수 로 저장\n",
    "# cpu 내부에 ALU (연산장치) -> 가산기로 + - * / 함 -> 답은 보수 : 9-4 -> 9+(-4)\n",
    "# 3*4 -> 3+3+3+3"
   ]
  },
  {
   "cell_type": "markdown",
   "metadata": {},
   "source": [
    "## 실수, call by value, call by ref, call by obj ref\n",
    "## 문자 - ASCII, unicode"
   ]
  },
  {
   "cell_type": "code",
   "execution_count": 2,
   "metadata": {},
   "outputs": [],
   "source": [
    "# 실수 -> 부동소수점 (floating 떠다닌다?) -> 1234 : 123.4e+1, 12.34 * 10^2"
   ]
  },
  {
   "cell_type": "code",
   "execution_count": 7,
   "metadata": {},
   "outputs": [
    {
     "data": {
      "text/plain": [
       "sys.float_info(max=1.7976931348623157e+308, max_exp=1024, max_10_exp=308, min=2.2250738585072014e-308, min_exp=-1021, min_10_exp=-307, dig=15, mant_dig=53, epsilon=2.220446049250313e-16, radix=2, rounds=1)"
      ]
     },
     "execution_count": 7,
     "metadata": {},
     "output_type": "execute_result"
    }
   ],
   "source": [
    "import sys\n",
    "\n",
    "sys.float_info\n",
    "\n",
    "# dig -> digit, mant_dig, epsilon -> is_queal\n",
    "# mant_dig=53 -> 52bit + 1bit"
   ]
  },
  {
   "cell_type": "code",
   "execution_count": 4,
   "metadata": {},
   "outputs": [
    {
     "name": "stdout",
     "output_type": "stream",
     "text": [
      "Help on float_info object:\n",
      "\n",
      "class float_info(builtins.tuple)\n",
      " |  sys.float_info\n",
      " |  \n",
      " |  A structseq holding information about the float type. It contains low level\n",
      " |  information about the precision and internal representation. Please study\n",
      " |  your system's :file:`float.h` for more information.\n",
      " |  \n",
      " |  Method resolution order:\n",
      " |      float_info\n",
      " |      builtins.tuple\n",
      " |      builtins.object\n",
      " |  \n",
      " |  Methods defined here:\n",
      " |  \n",
      " |  __new__(*args, **kwargs) from builtins.type\n",
      " |      Create and return a new object.  See help(type) for accurate signature.\n",
      " |  \n",
      " |  __reduce__(...)\n",
      " |      helper for pickle\n",
      " |  \n",
      " |  __repr__(self, /)\n",
      " |      Return repr(self).\n",
      " |  \n",
      " |  ----------------------------------------------------------------------\n",
      " |  Data descriptors defined here:\n",
      " |  \n",
      " |  dig\n",
      " |      DBL_DIG -- digits\n",
      " |  \n",
      " |  epsilon\n",
      " |      DBL_EPSILON -- Difference between 1 and the next representable float\n",
      " |  \n",
      " |  mant_dig\n",
      " |      DBL_MANT_DIG -- mantissa digits\n",
      " |  \n",
      " |  max\n",
      " |      DBL_MAX -- maximum representable finite float\n",
      " |  \n",
      " |  max_10_exp\n",
      " |      DBL_MAX_10_EXP -- maximum int e such that 10**e is representable\n",
      " |  \n",
      " |  max_exp\n",
      " |      DBL_MAX_EXP -- maximum int e such that radix**(e-1) is representable\n",
      " |  \n",
      " |  min\n",
      " |      DBL_MIN -- Minimum positive normalizer float\n",
      " |  \n",
      " |  min_10_exp\n",
      " |      DBL_MIN_10_EXP -- minimum int e such that 10**e is a normalized\n",
      " |  \n",
      " |  min_exp\n",
      " |      DBL_MIN_EXP -- minimum int e such that radix**(e-1) is a normalized float\n",
      " |  \n",
      " |  radix\n",
      " |      FLT_RADIX -- radix of exponent\n",
      " |  \n",
      " |  rounds\n",
      " |      FLT_ROUNDS -- addition rounds\n",
      " |  \n",
      " |  ----------------------------------------------------------------------\n",
      " |  Data and other attributes defined here:\n",
      " |  \n",
      " |  n_fields = 11\n",
      " |  \n",
      " |  n_sequence_fields = 11\n",
      " |  \n",
      " |  n_unnamed_fields = 0\n",
      " |  \n",
      " |  ----------------------------------------------------------------------\n",
      " |  Methods inherited from builtins.tuple:\n",
      " |  \n",
      " |  __add__(self, value, /)\n",
      " |      Return self+value.\n",
      " |  \n",
      " |  __contains__(self, key, /)\n",
      " |      Return key in self.\n",
      " |  \n",
      " |  __eq__(self, value, /)\n",
      " |      Return self==value.\n",
      " |  \n",
      " |  __ge__(self, value, /)\n",
      " |      Return self>=value.\n",
      " |  \n",
      " |  __getattribute__(self, name, /)\n",
      " |      Return getattr(self, name).\n",
      " |  \n",
      " |  __getitem__(self, key, /)\n",
      " |      Return self[key].\n",
      " |  \n",
      " |  __getnewargs__(...)\n",
      " |  \n",
      " |  __gt__(self, value, /)\n",
      " |      Return self>value.\n",
      " |  \n",
      " |  __hash__(self, /)\n",
      " |      Return hash(self).\n",
      " |  \n",
      " |  __iter__(self, /)\n",
      " |      Implement iter(self).\n",
      " |  \n",
      " |  __le__(self, value, /)\n",
      " |      Return self<=value.\n",
      " |  \n",
      " |  __len__(self, /)\n",
      " |      Return len(self).\n",
      " |  \n",
      " |  __lt__(self, value, /)\n",
      " |      Return self<value.\n",
      " |  \n",
      " |  __mul__(self, value, /)\n",
      " |      Return self*value.n\n",
      " |  \n",
      " |  __ne__(self, value, /)\n",
      " |      Return self!=value.\n",
      " |  \n",
      " |  __rmul__(self, value, /)\n",
      " |      Return self*value.\n",
      " |  \n",
      " |  count(...)\n",
      " |      T.count(value) -> integer -- return number of occurrences of value\n",
      " |  \n",
      " |  index(...)\n",
      " |      T.index(value, [start, [stop]]) -> integer -- return first index of value.\n",
      " |      Raises ValueError if the value is not present.\n",
      "\n"
     ]
    }
   ],
   "source": [
    "help(sys.float_info)"
   ]
  },
  {
   "cell_type": "markdown",
   "metadata": {},
   "source": [
    "## 실수"
   ]
  },
  {
   "cell_type": "code",
   "execution_count": 8,
   "metadata": {},
   "outputs": [],
   "source": [
    "# python -> a=4.5 -> double : 64bit\n",
    "# 가수부 -> 52bit --> 정밀도 : 파이썬에서는 실수의 경우 정수 15자리까지만 보장해줌\n",
    "# 지수부 -> 10bit"
   ]
  },
  {
   "cell_type": "markdown",
   "metadata": {},
   "source": [
    "## epsilon"
   ]
  },
  {
   "cell_type": "code",
   "execution_count": 11,
   "metadata": {},
   "outputs": [],
   "source": [
    "# 1.0 - 다음 표현 가능수 = epsilon\n",
    "# 1.000000~~~~~0 * 2^0\n",
    "# 1.000000~~~~~1 * 2^0\n",
    "# 0.000000~~~~~1 * 2^0 -> epsilon"
   ]
  },
  {
   "cell_type": "code",
   "execution_count": 14,
   "metadata": {},
   "outputs": [
    {
     "data": {
      "text/plain": [
       "9007199254740992.0"
      ]
     },
     "execution_count": 14,
     "metadata": {},
     "output_type": "execute_result"
    }
   ],
   "source": [
    "a = 2.0**53\n",
    "a"
   ]
  },
  {
   "cell_type": "code",
   "execution_count": 15,
   "metadata": {},
   "outputs": [],
   "source": [
    "a+=1"
   ]
  },
  {
   "cell_type": "code",
   "execution_count": 16,
   "metadata": {},
   "outputs": [
    {
     "data": {
      "text/plain": [
       "9007199254740992.0"
      ]
     },
     "execution_count": 16,
     "metadata": {},
     "output_type": "execute_result"
    }
   ],
   "source": [
    "a"
   ]
  },
  {
   "cell_type": "code",
   "execution_count": 17,
   "metadata": {},
   "outputs": [],
   "source": [
    "a+=2"
   ]
  },
  {
   "cell_type": "code",
   "execution_count": 18,
   "metadata": {},
   "outputs": [
    {
     "data": {
      "text/plain": [
       "9007199254740994.0"
      ]
     },
     "execution_count": 18,
     "metadata": {},
     "output_type": "execute_result"
    }
   ],
   "source": [
    "a"
   ]
  },
  {
   "cell_type": "markdown",
   "metadata": {},
   "source": [
    "## absolute_comparison 절대비교"
   ]
  },
  {
   "cell_type": "code",
   "execution_count": 20,
   "metadata": {},
   "outputs": [
    {
     "name": "stdout",
     "output_type": "stream",
     "text": [
      "0.30000000000000004\n",
      "0.3\n"
     ]
    },
    {
     "data": {
      "text/plain": [
       "False"
      ]
     },
     "execution_count": 20,
     "metadata": {},
     "output_type": "execute_result"
    }
   ],
   "source": [
    "a=0.1*3\n",
    "b=0.3\n",
    "print(a)\n",
    "print(b)\n",
    "a==b"
   ]
  },
  {
   "cell_type": "code",
   "execution_count": 30,
   "metadata": {},
   "outputs": [
    {
     "data": {
      "text/plain": [
       "False"
      ]
     },
     "execution_count": 30,
     "metadata": {},
     "output_type": "execute_result"
    }
   ],
   "source": [
    "# 두 수 차의 절대값을 구하고 이 차이가 1e-10 보다 작으면 True 아니면 False\n",
    "from math import fabs\n",
    "def is_equal(a,b):\n",
    "    return fabs(a-b) <= 1e-10\n",
    "\n",
    "if is_equal(a,b):\n",
    "    print('things')\n",
    "    \n",
    "is_equal(a,b)"
   ]
  },
  {
   "cell_type": "code",
   "execution_count": 27,
   "metadata": {},
   "outputs": [
    {
     "data": {
      "text/plain": [
       "1e-10"
      ]
     },
     "execution_count": 27,
     "metadata": {},
     "output_type": "execute_result"
    }
   ],
   "source": [
    "a=1e-10\n",
    "a"
   ]
  },
  {
   "cell_type": "code",
   "execution_count": 31,
   "metadata": {},
   "outputs": [
    {
     "data": {
      "text/plain": [
       "1.23"
      ]
     },
     "execution_count": 31,
     "metadata": {},
     "output_type": "execute_result"
    }
   ],
   "source": [
    "a=-1.23\n",
    "abs(a)"
   ]
  },
  {
   "cell_type": "markdown",
   "metadata": {},
   "source": [
    "## relative_comparison 상대비교"
   ]
  },
  {
   "cell_type": "code",
   "execution_count": null,
   "metadata": {},
   "outputs": [],
   "source": [
    "# relative error = fabs(a-b)/max(fabs(a),fabs(b)) 상대오차"
   ]
  },
  {
   "cell_type": "code",
   "execution_count": 45,
   "metadata": {},
   "outputs": [
    {
     "name": "stdout",
     "output_type": "stream",
     "text": [
      "things\n"
     ]
    }
   ],
   "source": [
    "a=0.1*3\n",
    "b=0.3\n",
    "\n",
    "# 만약에 두 수의 차이(fabs)가 1e-10 작거나 같으면 True\n",
    "# 두 수의 차이가 절대값을 취한 두 수 중에서 큰 수에 1e-8 를 곱한 값보다 작거나 같다면 True 아니면 False\n",
    "from math import fabs\n",
    "\n",
    "def is_equal(a,b):\n",
    "    _result = False\n",
    "    diff = fabs(a - b)\n",
    "    if diff <= 1e-10:\n",
    "        _result = True\n",
    "    else:      \n",
    "        bigger = max(fabs(a),fabs(b)) * 1e-8                  \n",
    "        if diff <= bigger:\n",
    "            _result = False\n",
    "    return _result\n",
    "        \n",
    "if is_equal(a,b):\n",
    "    print('things')"
   ]
  },
  {
   "cell_type": "code",
   "execution_count": 47,
   "metadata": {},
   "outputs": [
    {
     "name": "stdout",
     "output_type": "stream",
     "text": [
      "2.220446049250313e-16\n",
      "things\n"
     ]
    }
   ],
   "source": [
    "from math import fabs\n",
    "import sys\n",
    "\n",
    "def is_equal(a,b,w=0): # w : 가중치를 프로그래머가 줌 (상대오차범위)\n",
    "    \"\"\"\n",
    "    is_equal(a,b,w=0)->bool\n",
    "    w는 가중치입니다.\n",
    "    w를 0부터 늘려가며 상대 오차 범위를 조정해주세요.\n",
    "    \"\"\"\n",
    "    ep=sys.float_info.epsilon\n",
    "    print(ep)\n",
    "    diff=fabs(a-b)\n",
    "    return diff <= max(fabs(a), fabs(b))*ep*(2**w)\n",
    "\n",
    "s=0.0\n",
    "a=0.01\n",
    "t=1.0\n",
    "\n",
    "for _ in range(100):\n",
    "    s+=a\n",
    "        \n",
    "if is_equal(s, t, 2):\n",
    "    print('things')"
   ]
  },
  {
   "cell_type": "code",
   "execution_count": 43,
   "metadata": {},
   "outputs": [
    {
     "name": "stdout",
     "output_type": "stream",
     "text": [
      "Help on function is_equal in module __main__:\n",
      "\n",
      "is_equal(a, b, w=0)\n",
      "    is_equal(a,b,w=0)->bool\n",
      "    w는 가중치입니다.\n",
      "    w를 0부터 늘려가며 상대 오차 범위를 조정해주세요.\n",
      "\n"
     ]
    }
   ],
   "source": [
    "help(is_equal)"
   ]
  },
  {
   "cell_type": "markdown",
   "metadata": {},
   "source": [
    "## Call by value\n",
    "## Call by reference\n",
    "## Call by object reference -> python"
   ]
  },
  {
   "cell_type": "code",
   "execution_count": 51,
   "metadata": {},
   "outputs": [
    {
     "name": "stdout",
     "output_type": "stream",
     "text": [
      "20 in change_value\n",
      "10 in main\n"
     ]
    }
   ],
   "source": [
    "x=10\n",
    "def change_value(x,val):\n",
    "    x=val\n",
    "    print(str(x)+' in change_value')\n",
    "change_value(x,20)\n",
    "print(str(x)+' in main')\n",
    "\n",
    "\n",
    "# 처음 시작은 레퍼펀스로 시작함 -> 이후에 함수네에서 할당시에 "
   ]
  },
  {
   "cell_type": "code",
   "execution_count": 54,
   "metadata": {},
   "outputs": [
    {
     "name": "stdout",
     "output_type": "stream",
     "text": [
      "[55, 2, 3] in change_val_li\n",
      "[55, 2, 3] in main\n"
     ]
    }
   ],
   "source": [
    "li=[1,2,3]\n",
    "def change_val_li(li, idx, val):\n",
    "    # 인덱싱의 경우 call by object reference\n",
    "    li[idx]=val\n",
    "    print(str(li)+' in change_val_li')\n",
    "    \n",
    "change_val_li(li, 0, 55)    \n",
    "\n",
    "print(str(li)+' in main')"
   ]
  },
  {
   "cell_type": "code",
   "execution_count": 55,
   "metadata": {},
   "outputs": [],
   "source": [
    "# case\n",
    "# mutable(변경가능) vs immutable(변경불가능)\n",
    "# immutable -> 수, 튜플, 문자열 : 포인트 개념이 없음\n",
    "# mutable -> list, dict : 포인트라는 개념이 있다고 생각하면됨"
   ]
  },
  {
   "cell_type": "code",
   "execution_count": 56,
   "metadata": {},
   "outputs": [
    {
     "name": "stdout",
     "output_type": "stream",
     "text": [
      "[5, 2, 3] in change_value\n",
      "[1, 2, 3] in main\n"
     ]
    }
   ],
   "source": [
    "li=[1,2,3]\n",
    "def change_value(li, new_li):\n",
    "    # 할당\n",
    "    li=new_li # call by assingnment 라고도 함 (call by object reference)\n",
    "    print(str(li)+' in change_value')\n",
    "    \n",
    "change_value(li, [5,2,3])    \n",
    "\n",
    "print(str(li)+' in main')"
   ]
  },
  {
   "cell_type": "code",
   "execution_count": null,
   "metadata": {},
   "outputs": [],
   "source": []
  }
 ],
 "metadata": {
  "kernelspec": {
   "display_name": "Python 3",
   "language": "python",
   "name": "python3"
  },
  "language_info": {
   "codemirror_mode": {
    "name": "ipython",
    "version": 3
   },
   "file_extension": ".py",
   "mimetype": "text/x-python",
   "name": "python",
   "nbconvert_exporter": "python",
   "pygments_lexer": "ipython3",
   "version": "3.6.5"
  }
 },
 "nbformat": 4,
 "nbformat_minor": 2
}
