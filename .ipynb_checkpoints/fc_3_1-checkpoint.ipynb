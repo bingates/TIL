{
 "cells": [
  {
   "cell_type": "markdown",
   "metadata": {},
   "source": [
    "## OOP"
   ]
  },
  {
   "cell_type": "code",
   "execution_count": 2,
   "metadata": {},
   "outputs": [],
   "source": [
    "# object(객체) -> attribute(속성) -> member(변수), method(함수) <-> function 과의 차\n",
    "# 클로저가 하는 일을 OOP\n",
    "# 클래스 설계시 반드시 message passing 을 사용해야함\n",
    "# object == instance 메모리상으로 완전히 동일함\n",
    "# 어떤 클래스(설계도:틀)에서 나온 객체를 인스턴스(예)라함"
   ]
  },
  {
   "cell_type": "code",
   "execution_count": 113,
   "metadata": {},
   "outputs": [],
   "source": [
    "class Person:\n",
    "    \n",
    "    # 생성자(constructor) -> 예약어 -> self 는 메모리 자체를 의미함\n",
    "    def __init__(self, name, age, money):\n",
    "        # instance member : 객체 멤버 (변수)\n",
    "        # 객체마다 값이 다른 변수\n",
    "        # 객체들이 가지는 고유한 값\n",
    "        self.name=name\n",
    "        self.age=age\n",
    "        self.money=money\n",
    "    \n",
    "    # instance method\n",
    "    # 객체가 가진 메서드\n",
    "    def eat(self, food):\n",
    "        print('{} eats {}'.format(self.name, food))\n",
    "        \n",
    "    def get_old(self):\n",
    "        self.age+=1\n",
    "        \n",
    "    def get_money(self, money):\n",
    "        self.money+=money\n",
    "        \n",
    "    def give_money(self, other, money):\n",
    "        # (X) other.money+=money #절대 이렇게 하면 안됨\n",
    "        # 상대 객체랑 상호 작용할 때는 반드시 메소드를 통해 접근해야함 -> message passing : 객체간에 상호작용시\n",
    "        other.get_money(money) # message passing\n",
    "        self.money-=money\n",
    "    \n",
    "    def __str__(self): # 예약함수 -> print 함수에 전달됨\n",
    "        return '{} : {}'.format(self.name, self.money)\n",
    "\n",
    "# mark, greg 는 객체 -> 메모리에 불과하다\n",
    "mark=Person('mark', 24, 300)\n",
    "greg=Person('greg', 34, 4000)\n",
    "\n",
    "#mark.eat('Apple')"
   ]
  },
  {
   "cell_type": "markdown",
   "metadata": {},
   "source": [
    "## OOP : 1.캡슐화(Encapsulation)"
   ]
  },
  {
   "cell_type": "code",
   "execution_count": 33,
   "metadata": {},
   "outputs": [
    {
     "name": "stdout",
     "output_type": "stream",
     "text": [
      "mark : 300\n"
     ]
    }
   ],
   "source": [
    "# __init__ -> 언더바 언더바 : 파이썬에서의 예약어\n",
    "print(mark)"
   ]
  },
  {
   "cell_type": "code",
   "execution_count": 34,
   "metadata": {},
   "outputs": [
    {
     "name": "stdout",
     "output_type": "stream",
     "text": [
      "greg : 4000\n"
     ]
    }
   ],
   "source": [
    "print(greg)"
   ]
  },
  {
   "cell_type": "code",
   "execution_count": 114,
   "metadata": {},
   "outputs": [
    {
     "data": {
      "text/plain": [
       "function"
      ]
     },
     "execution_count": 114,
     "metadata": {},
     "output_type": "execute_result"
    }
   ],
   "source": [
    "type(Person.give_money) "
   ]
  },
  {
   "cell_type": "code",
   "execution_count": 115,
   "metadata": {},
   "outputs": [
    {
     "data": {
      "text/plain": [
       "method"
      ]
     },
     "execution_count": 115,
     "metadata": {},
     "output_type": "execute_result"
    }
   ],
   "source": [
    "type(mark.give_money)"
   ]
  },
  {
   "cell_type": "code",
   "execution_count": 35,
   "metadata": {},
   "outputs": [
    {
     "name": "stdout",
     "output_type": "stream",
     "text": [
      "mark : -700,greg : 5000\n"
     ]
    }
   ],
   "source": [
    "type(Person.give_money) # function\n",
    "Person.give_money(mark, greg, 1000)\n",
    "print(Person.__str__(mark) +','+ Person.__str__(greg))"
   ]
  },
  {
   "cell_type": "code",
   "execution_count": 39,
   "metadata": {},
   "outputs": [
    {
     "name": "stdout",
     "output_type": "stream",
     "text": [
      "mark : -700\n"
     ]
    }
   ],
   "source": [
    "type(mark.give_money) # method\n",
    "#mark.give_money(greg, 1000)\n",
    "print(mark)"
   ]
  },
  {
   "cell_type": "code",
   "execution_count": 40,
   "metadata": {},
   "outputs": [
    {
     "name": "stdout",
     "output_type": "stream",
     "text": [
      "greg : 5000\n"
     ]
    }
   ],
   "source": [
    "print(greg)"
   ]
  },
  {
   "cell_type": "markdown",
   "metadata": {},
   "source": [
    "## function 와 method 차이점"
   ]
  },
  {
   "cell_type": "code",
   "execution_count": 37,
   "metadata": {},
   "outputs": [],
   "source": [
    "# self 의 차이가 function 와 method 의 차이점 임\n",
    "\n",
    "#dir(mark.give_money)"
   ]
  },
  {
   "cell_type": "code",
   "execution_count": 116,
   "metadata": {},
   "outputs": [
    {
     "data": {
      "text/plain": [
       "<function __main__.Person.give_money(self, other, money)>"
      ]
     },
     "execution_count": 116,
     "metadata": {},
     "output_type": "execute_result"
    }
   ],
   "source": [
    "mark.give_money.__func__"
   ]
  },
  {
   "cell_type": "code",
   "execution_count": 43,
   "metadata": {},
   "outputs": [
    {
     "data": {
      "text/plain": [
       "<function __main__.Person.give_money(self, other, money)>"
      ]
     },
     "execution_count": 43,
     "metadata": {},
     "output_type": "execute_result"
    }
   ],
   "source": [
    "mark.give_money.__func__ is "
   ]
  },
  {
   "cell_type": "code",
   "execution_count": 117,
   "metadata": {},
   "outputs": [
    {
     "data": {
      "text/plain": [
       "<__main__.Person at 0x105f70748>"
      ]
     },
     "execution_count": 117,
     "metadata": {},
     "output_type": "execute_result"
    }
   ],
   "source": [
    "mark.give_money.__self__"
   ]
  },
  {
   "cell_type": "code",
   "execution_count": 41,
   "metadata": {},
   "outputs": [
    {
     "data": {
      "text/plain": [
       "True"
      ]
     },
     "execution_count": 41,
     "metadata": {},
     "output_type": "execute_result"
    }
   ],
   "source": [
    "mark.give_money.__self__ is mark"
   ]
  },
  {
   "cell_type": "markdown",
   "metadata": {},
   "source": [
    "## 클래스멤버, 클래스메서드"
   ]
  },
  {
   "cell_type": "code",
   "execution_count": 64,
   "metadata": {},
   "outputs": [],
   "source": [
    "class Account:\n",
    "    # 클래스멤버 : 객체 모두가 공유하는 동일한 값\n",
    "    # 전역 변수를 대체\n",
    "    num_acnt = 0\n",
    "    \n",
    "    # 클래스메서드(class method)\n",
    "    # 전역 함수를 대체 -> static 메서드를 더 사용함\n",
    "    # 대체 생성자를 만들때\n",
    "    @classmethod\n",
    "    def get_num_acnt(cls): # cls -> 클래스 자체를 받음\n",
    "        return cls.num_acnt\n",
    "    \n",
    "    def __init__(self, name, money):\n",
    "        # 인스턴스멤버\n",
    "        self.user=name\n",
    "        self.balance=money\n",
    "        \n",
    "        Account.num_acnt+=1\n",
    "        \n",
    "    # 입금\n",
    "    def deposit(self, money):\n",
    "        if money > 0:\n",
    "            self.balance+=money\n",
    "            return True\n",
    "        return False\n",
    "    \n",
    "    # 인출\n",
    "    def withdraw(self, money):\n",
    "        if money > 0 and self.balance > money:\n",
    "            self.balance-=money\n",
    "            return money\n",
    "        return None\n",
    "           \n",
    "    # 송금\n",
    "    def transfer(self, other, money):\n",
    "        res=self.withdraw(money) # 입금\n",
    "        if res:\n",
    "            other.deposit(res) # 인출\n",
    "            return True\n",
    "        else:\n",
    "            return False\n",
    "            \n",
    "        \n",
    "    def __str__(self):\n",
    "        return '{} : {}'.format(self.user, self.balance)"
   ]
  },
  {
   "cell_type": "code",
   "execution_count": 65,
   "metadata": {},
   "outputs": [],
   "source": [
    "mark_account=Account(\"mark\", 1000)\n",
    "greg_account=Account(\"greg\", 1000)"
   ]
  },
  {
   "cell_type": "code",
   "execution_count": 73,
   "metadata": {},
   "outputs": [
    {
     "name": "stdout",
     "output_type": "stream",
     "text": [
      "mark : 300\n"
     ]
    }
   ],
   "source": [
    "print(mark_account)"
   ]
  },
  {
   "cell_type": "code",
   "execution_count": 74,
   "metadata": {},
   "outputs": [
    {
     "name": "stdout",
     "output_type": "stream",
     "text": [
      "greg : 1300\n"
     ]
    }
   ],
   "source": [
    "print(greg_account)"
   ]
  },
  {
   "cell_type": "code",
   "execution_count": 68,
   "metadata": {},
   "outputs": [],
   "source": [
    "mark_account.deposit(100)"
   ]
  },
  {
   "cell_type": "code",
   "execution_count": 70,
   "metadata": {},
   "outputs": [
    {
     "data": {
      "text/plain": [
       "500"
      ]
     },
     "execution_count": 70,
     "metadata": {},
     "output_type": "execute_result"
    }
   ],
   "source": [
    "mark_account.withdraw(500)"
   ]
  },
  {
   "cell_type": "code",
   "execution_count": 72,
   "metadata": {},
   "outputs": [
    {
     "data": {
      "text/plain": [
       "True"
      ]
     },
     "execution_count": 72,
     "metadata": {},
     "output_type": "execute_result"
    }
   ],
   "source": [
    "mark_account.transfer(greg_account, 300)"
   ]
  },
  {
   "cell_type": "code",
   "execution_count": 47,
   "metadata": {},
   "outputs": [
    {
     "data": {
      "text/plain": [
       "0"
      ]
     },
     "execution_count": 47,
     "metadata": {},
     "output_type": "execute_result"
    }
   ],
   "source": [
    "# 클래스멤버 및 메서드는 객체 생성 없이 호출 가능함\n",
    "Account.num_acnt\n",
    "Account.get_num_acnt()\n",
    "#my_acnt=Account('greg', 5000)"
   ]
  },
  {
   "cell_type": "markdown",
   "metadata": {},
   "source": [
    "## class method(클래스 메서드) vs static method"
   ]
  },
  {
   "cell_type": "code",
   "execution_count": 118,
   "metadata": {},
   "outputs": [],
   "source": [
    "class Base:\n",
    "    # 전역함수를 대체할때 꼭 사용할것\n",
    "    @staticmethod\n",
    "    def f():\n",
    "        pass\n",
    "    \n",
    "    # 대체생성자로 사용함\n",
    "    @classmethod\n",
    "    def g(cls):\n",
    "        pass"
   ]
  },
  {
   "cell_type": "code",
   "execution_count": 119,
   "metadata": {},
   "outputs": [],
   "source": [
    "Base.f()"
   ]
  },
  {
   "cell_type": "code",
   "execution_count": 120,
   "metadata": {},
   "outputs": [],
   "source": [
    "Base.g()"
   ]
  },
  {
   "cell_type": "markdown",
   "metadata": {},
   "source": [
    "## 대체 생성자 => @classmethod"
   ]
  },
  {
   "cell_type": "code",
   "execution_count": 123,
   "metadata": {},
   "outputs": [],
   "source": [
    "class Person:\n",
    "    \n",
    "    @classmethod\n",
    "    def init_from_string(cls, string):\n",
    "        name, age=string.split('_')\n",
    "        return cls(name, int(age))\n",
    "    \n",
    "    def __init__(self, name, age):\n",
    "        self.name=name\n",
    "        self.age=age\n",
    "        \n",
    "    def __str__(self):\n",
    "        return '{} : {}'.format(self.name, self.age)"
   ]
  },
  {
   "cell_type": "code",
   "execution_count": 124,
   "metadata": {},
   "outputs": [
    {
     "name": "stdout",
     "output_type": "stream",
     "text": [
      "[<__main__.Person object at 0x106019c18>, <__main__.Person object at 0x105ffb320>, <__main__.Person object at 0x105ffb940>]\n"
     ]
    }
   ],
   "source": [
    "li=['aaa_21', 'bbb_32', 'ccc_45']\n",
    "obj_list=[]\n",
    "for string in li:\n",
    "    obj_list.append(Person.init_from_string(string))\n",
    "print(obj_list)"
   ]
  },
  {
   "cell_type": "code",
   "execution_count": 128,
   "metadata": {},
   "outputs": [
    {
     "name": "stdout",
     "output_type": "stream",
     "text": [
      "aaa : 21\n"
     ]
    }
   ],
   "source": [
    "print(obj_list[0])"
   ]
  },
  {
   "cell_type": "code",
   "execution_count": 137,
   "metadata": {},
   "outputs": [
    {
     "name": "stdout",
     "output_type": "stream",
     "text": [
      "dog : 5\n"
     ]
    }
   ],
   "source": [
    "# 대체생성자 예\n",
    "\n",
    "class Animal:\n",
    "    \n",
    "    @classmethod\n",
    "    def set_init(cls, params):\n",
    "        name, age = params.split('_')\n",
    "        return cls(name,age)\n",
    "    \n",
    "    def __init__(self, name, age):\n",
    "        self.name=name\n",
    "        self.age=age\n",
    "        \n",
    "    def __str__(self):\n",
    "        return '{} : {}'.format(self.name,self.age)\n",
    "\n",
    "if __name__==\"__main__\":\n",
    "    \n",
    "    new_li=['cat_2','dog_5','tiger_9']\n",
    "    re_li=[]\n",
    "    for i in new_li:\n",
    "        re_li.append(Animal.set_init(i))\n",
    "    print(re_li[1])"
   ]
  },
  {
   "cell_type": "markdown",
   "metadata": {},
   "source": [
    "## 객체 풀 : object pool\n",
    "## thread pool"
   ]
  },
  {
   "cell_type": "markdown",
   "metadata": {},
   "source": [
    "## OOP : 2. 정보은닉(information hiding)"
   ]
  },
  {
   "cell_type": "code",
   "execution_count": 192,
   "metadata": {},
   "outputs": [],
   "source": [
    "# 네임 맹글링 (name mangling) 법칙 -> 컴파일러가 컴파일 단계에서 일정한 규칙으로 변형하는것\n",
    "\n",
    "class Account1:\n",
    "    def __init__(self, money):\n",
    "        self.__balance=money # __ 언더바 둘의 경우 절대 접근하면 안된다고 생각해야함 (약속)\n",
    "        \n",
    "    # 접근함수 access function -> property\n",
    "    def get_balance(self):\n",
    "        print('get_balance : {}'.format(self.__balance))\n",
    "        return self.__balance\n",
    "    def set_balance(self, new_bal):\n",
    "        self.__balance=new_bal"
   ]
  },
  {
   "cell_type": "code",
   "execution_count": 193,
   "metadata": {},
   "outputs": [],
   "source": [
    "my_acnt=Account1(5000)"
   ]
  },
  {
   "cell_type": "code",
   "execution_count": 194,
   "metadata": {},
   "outputs": [
    {
     "name": "stdout",
     "output_type": "stream",
     "text": [
      "get_balance : 5000\n"
     ]
    },
    {
     "data": {
      "text/plain": [
       "5000"
      ]
     },
     "execution_count": 194,
     "metadata": {},
     "output_type": "execute_result"
    }
   ],
   "source": [
    "my_acnt.get_balance()"
   ]
  },
  {
   "cell_type": "code",
   "execution_count": 195,
   "metadata": {},
   "outputs": [],
   "source": [
    "#my_acnt.__balance=-3000 ???????"
   ]
  },
  {
   "cell_type": "code",
   "execution_count": 196,
   "metadata": {},
   "outputs": [
    {
     "ename": "AttributeError",
     "evalue": "'Account1' object has no attribute '__balance'",
     "output_type": "error",
     "traceback": [
      "\u001b[0;31m---------------------------------------------------------------------------\u001b[0m",
      "\u001b[0;31mAttributeError\u001b[0m                            Traceback (most recent call last)",
      "\u001b[0;32m<ipython-input-196-a281502c9fd6>\u001b[0m in \u001b[0;36m<module>\u001b[0;34m()\u001b[0m\n\u001b[0;32m----> 1\u001b[0;31m \u001b[0mprint\u001b[0m\u001b[0;34m(\u001b[0m\u001b[0mmy_acnt\u001b[0m\u001b[0;34m.\u001b[0m\u001b[0m__balance\u001b[0m\u001b[0;34m)\u001b[0m\u001b[0;34m\u001b[0m\u001b[0m\n\u001b[0m",
      "\u001b[0;31mAttributeError\u001b[0m: 'Account1' object has no attribute '__balance'"
     ]
    }
   ],
   "source": [
    "print(my_acnt.__balance)"
   ]
  },
  {
   "cell_type": "code",
   "execution_count": 150,
   "metadata": {},
   "outputs": [
    {
     "data": {
      "text/plain": [
       "{'_Account1__balance': 5000}"
      ]
     },
     "execution_count": 150,
     "metadata": {},
     "output_type": "execute_result"
    }
   ],
   "source": [
    "my_acnt.__dict__"
   ]
  },
  {
   "cell_type": "code",
   "execution_count": 151,
   "metadata": {},
   "outputs": [
    {
     "data": {
      "text/plain": [
       "5000"
      ]
     },
     "execution_count": 151,
     "metadata": {},
     "output_type": "execute_result"
    }
   ],
   "source": [
    "my_acnt._Account1__balance"
   ]
  },
  {
   "cell_type": "code",
   "execution_count": 152,
   "metadata": {},
   "outputs": [
    {
     "ename": "AttributeError",
     "evalue": "'Account1' object has no attribute '__balance'",
     "output_type": "error",
     "traceback": [
      "\u001b[0;31m---------------------------------------------------------------------------\u001b[0m",
      "\u001b[0;31mAttributeError\u001b[0m                            Traceback (most recent call last)",
      "\u001b[0;32m<ipython-input-152-1a06a53a4573>\u001b[0m in \u001b[0;36m<module>\u001b[0;34m()\u001b[0m\n\u001b[0;32m----> 1\u001b[0;31m \u001b[0mmy_acnt\u001b[0m\u001b[0;34m.\u001b[0m\u001b[0m__balance\u001b[0m\u001b[0;34m\u001b[0m\u001b[0m\n\u001b[0m",
      "\u001b[0;31mAttributeError\u001b[0m: 'Account1' object has no attribute '__balance'"
     ]
    }
   ],
   "source": [
    "my_acnt.__balance"
   ]
  },
  {
   "cell_type": "code",
   "execution_count": 171,
   "metadata": {},
   "outputs": [],
   "source": [
    "# property       \n",
    "class Account_2:\n",
    "    def __init__(self, money):\n",
    "        #self._balance=money # _ 언더바 하나는 의미가 없음 m 으로 해도됨 -> 정의 후 property 사용\n",
    "        self.balance=money # balance -> setter 를 호출함\n",
    "    #getter    \n",
    "    @property \n",
    "    def balance(self):\n",
    "        print('getter call')\n",
    "        return self._balance\n",
    "    \n",
    "    #setter\n",
    "    @balance.setter\n",
    "    def balance(self, new_bal):\n",
    "        print('setter call')\n",
    "        if new_bal < 0:\n",
    "            self._balance=0\n",
    "        else:\n",
    "            self._balance=new_bal          \n"
   ]
  },
  {
   "cell_type": "code",
   "execution_count": 172,
   "metadata": {},
   "outputs": [
    {
     "name": "stdout",
     "output_type": "stream",
     "text": [
      "setter call\n"
     ]
    }
   ],
   "source": [
    "my_acnt_2=Account_2(3000)"
   ]
  },
  {
   "cell_type": "code",
   "execution_count": 173,
   "metadata": {},
   "outputs": [
    {
     "name": "stdout",
     "output_type": "stream",
     "text": [
      "setter call\n"
     ]
    }
   ],
   "source": [
    "my_acnt_2.balance=1000"
   ]
  },
  {
   "cell_type": "code",
   "execution_count": 174,
   "metadata": {},
   "outputs": [
    {
     "name": "stdout",
     "output_type": "stream",
     "text": [
      "getter call\n"
     ]
    },
    {
     "data": {
      "text/plain": [
       "1000"
      ]
     },
     "execution_count": 174,
     "metadata": {},
     "output_type": "execute_result"
    }
   ],
   "source": [
    "my_acnt_2.balance"
   ]
  },
  {
   "cell_type": "code",
   "execution_count": 157,
   "metadata": {},
   "outputs": [
    {
     "name": "stdout",
     "output_type": "stream",
     "text": [
      "blue\n"
     ]
    }
   ],
   "source": [
    "class Test:\n",
    "\n",
    "    def __init__(self):\n",
    "        self.__color = \"red\"\n",
    "\n",
    "    @property\n",
    "    def color(self):\n",
    "        return self.__color\n",
    "\n",
    "    @color.setter\n",
    "    def color(self,clr):\n",
    "        self.__color = clr\n",
    "\n",
    "if __name__ == '__main__':\n",
    "\n",
    "    t = Test()\n",
    "    t.color = \"blue\"\n",
    "\n",
    "    print(t.color)\n"
   ]
  },
  {
   "cell_type": "code",
   "execution_count": 227,
   "metadata": {},
   "outputs": [],
   "source": [
    "class Color:\n",
    "    \n",
    "    def __init__(self, color):\n",
    "        self.color=color\n",
    "    \n",
    "    @property\n",
    "    def color(self):\n",
    "        return self._color\n",
    "    \n",
    "    @color.setter\n",
    "    def color(self, newColor):\n",
    "        self._color=newColor\n",
    "        \n",
    "    def __str__(self):\n",
    "        return '{} : {}'.format(self.color, self._color)"
   ]
  },
  {
   "cell_type": "code",
   "execution_count": 228,
   "metadata": {},
   "outputs": [
    {
     "name": "stdout",
     "output_type": "stream",
     "text": [
      "red\n"
     ]
    }
   ],
   "source": [
    "cr=Color('blue')\n",
    "cr.color='red'\n",
    "print(cr.color)"
   ]
  },
  {
   "cell_type": "code",
   "execution_count": 230,
   "metadata": {},
   "outputs": [
    {
     "name": "stdout",
     "output_type": "stream",
     "text": [
      "red : red\n"
     ]
    }
   ],
   "source": [
    "print(cr)"
   ]
  },
  {
   "cell_type": "code",
   "execution_count": null,
   "metadata": {},
   "outputs": [],
   "source": []
  }
 ],
 "metadata": {
  "kernelspec": {
   "display_name": "Python 3",
   "language": "python",
   "name": "python3"
  },
  "language_info": {
   "codemirror_mode": {
    "name": "ipython",
    "version": 3
   },
   "file_extension": ".py",
   "mimetype": "text/x-python",
   "name": "python",
   "nbconvert_exporter": "python",
   "pygments_lexer": "ipython3",
   "version": "3.6.5"
  }
 },
 "nbformat": 4,
 "nbformat_minor": 2
}
