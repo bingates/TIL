{
 "cells": [
  {
   "cell_type": "markdown",
   "metadata": {},
   "source": [
    "## 함수의 실행 횟수를 세는 데코레이터"
   ]
  },
  {
   "cell_type": "code",
   "execution_count": 24,
   "metadata": {},
   "outputs": [
    {
     "name": "stdout",
     "output_type": "stream",
     "text": [
      "call count of add : 1\n",
      "1\n",
      "call count of add : 2\n",
      "3\n",
      "call count of add : 3\n",
      "5\n",
      "call count of add : 4\n",
      "7\n",
      "call count of add : 5\n",
      "9\n",
      "call count of add : 6\n",
      "11\n",
      "call count of add : 7\n",
      "13\n",
      "call count of add : 8\n",
      "15\n",
      "call count of add : 9\n",
      "17\n",
      "call count of add : 10\n",
      "19\n"
     ]
    }
   ],
   "source": [
    "# 같은 패턴을 여러번 사용할때 이용\n",
    "# class 형태로도 구현이 가능\n",
    "\n",
    "from functools import wraps\n",
    "\n",
    "def call_counter(org_func):\n",
    "    cnt = 0\n",
    "    @wraps(org_func)\n",
    "    def inner(*args, **kwargs):\n",
    "        #이 부분을 완성해주세요!\n",
    "        nonlocal cnt\n",
    "        cnt += 1\n",
    "        print(\"call count of add : {}\".format(cnt))\n",
    "        #print(org_func.__name__)\n",
    "        return org_func(*args, **kwargs)\n",
    "    return inner\n",
    "\n",
    "@call_counter\n",
    "def add(a, b):\n",
    "    return a+b\n",
    "\n",
    "for i in range(10):\n",
    "    print(add(i, i+1))"
   ]
  },
  {
   "cell_type": "code",
   "execution_count": null,
   "metadata": {},
   "outputs": [],
   "source": []
  }
 ],
 "metadata": {
  "kernelspec": {
   "display_name": "Python 3",
   "language": "python",
   "name": "python3"
  },
  "language_info": {
   "codemirror_mode": {
    "name": "ipython",
    "version": 3
   },
   "file_extension": ".py",
   "mimetype": "text/x-python",
   "name": "python",
   "nbconvert_exporter": "python",
   "pygments_lexer": "ipython3",
   "version": "3.6.5"
  }
 },
 "nbformat": 4,
 "nbformat_minor": 2
}
