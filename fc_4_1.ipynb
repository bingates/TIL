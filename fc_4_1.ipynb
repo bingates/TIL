{
 "cells": [
  {
   "cell_type": "markdown",
   "metadata": {},
   "source": [
    "## 이번주 공부 내용"
   ]
  },
  {
   "cell_type": "code",
   "execution_count": 2,
   "metadata": {},
   "outputs": [],
   "source": [
    "# 컴파일러와 인터프리터 차이\n",
    "# 알고리즘\n",
    "# 자료구조(linked list, stack, queue --> 선형)\n",
    "# big O\n",
    "# 이진트리 이진탐색트리\n",
    "# 소트(버블, 퀵)\n",
    "# 선영탐색, 바이너리탐색, \n",
    "# 리커션(재귀함수) - 피보나치, 하노이타워, 팩토리얼\n",
    "# 배열 vs 링크드리스트"
   ]
  },
  {
   "cell_type": "code",
   "execution_count": 3,
   "metadata": {},
   "outputs": [],
   "source": [
    "# ## Compiler vs interpreter\n",
    "# Compile Time 의 유무로 구분함\n",
    "# 소스코드를 분석하는 시간이 따로 있어 소스코드를 받아 해석 실행파일 나온 후 런타임시점에 데이타가 입력됨\n",
    "\n",
    "# 소스코드분석시간, 데이타입력 시점에 따라 구분됨\n",
    "\n",
    "# 인터프리터 -> 컴파일타임이 없고 런타임만 존재 소스코드와 데이타가 동시에 런타임에 입력됨\n",
    "\n",
    "# Compiler -> 컴파일,인터프리터 모두 가지고 있음\n",
    "#     Lexer : Character -> Tokens\n",
    "#     Parser : Tokens -> Parse Tree"
   ]
  },
  {
   "cell_type": "code",
   "execution_count": 4,
   "metadata": {},
   "outputs": [
    {
     "data": {
      "text/plain": [
       "'def func(a,b):\\n    return a+b\\n\\na=10\\nb=20\\nc=func(a,b)\\nprint(c)'"
      ]
     },
     "execution_count": 4,
     "metadata": {},
     "output_type": "execute_result"
    }
   ],
   "source": [
    "s=open('fc_4_1/test.py').read()\n",
    "s #문자열"
   ]
  },
  {
   "cell_type": "code",
   "execution_count": 5,
   "metadata": {},
   "outputs": [],
   "source": [
    "code=compile(s, 'fc_4_1/test.py', 'exec')"
   ]
  },
  {
   "cell_type": "code",
   "execution_count": 6,
   "metadata": {},
   "outputs": [
    {
     "data": {
      "text/plain": [
       "<code object <module> at 0x102e3b540, file \"fc_4_1/test.py\", line 1>"
      ]
     },
     "execution_count": 6,
     "metadata": {},
     "output_type": "execute_result"
    }
   ],
   "source": [
    "code # 문자열 s -> bytecode"
   ]
  },
  {
   "cell_type": "code",
   "execution_count": 7,
   "metadata": {},
   "outputs": [
    {
     "name": "stdout",
     "output_type": "stream",
     "text": [
      "30\n"
     ]
    }
   ],
   "source": [
    "exec(code)"
   ]
  },
  {
   "cell_type": "code",
   "execution_count": 8,
   "metadata": {},
   "outputs": [
    {
     "data": {
      "text/plain": [
       "{0: 'ENDMARKER',\n",
       " 1: 'NAME',\n",
       " 2: 'NUMBER',\n",
       " 3: 'STRING',\n",
       " 4: 'NEWLINE',\n",
       " 5: 'INDENT',\n",
       " 6: 'DEDENT',\n",
       " 7: 'LPAR',\n",
       " 8: 'RPAR',\n",
       " 9: 'LSQB',\n",
       " 10: 'RSQB',\n",
       " 11: 'COLON',\n",
       " 12: 'COMMA',\n",
       " 13: 'SEMI',\n",
       " 14: 'PLUS',\n",
       " 15: 'MINUS',\n",
       " 16: 'STAR',\n",
       " 17: 'SLASH',\n",
       " 18: 'VBAR',\n",
       " 19: 'AMPER',\n",
       " 20: 'LESS',\n",
       " 21: 'GREATER',\n",
       " 22: 'EQUAL',\n",
       " 23: 'DOT',\n",
       " 24: 'PERCENT',\n",
       " 25: 'LBRACE',\n",
       " 26: 'RBRACE',\n",
       " 27: 'EQEQUAL',\n",
       " 28: 'NOTEQUAL',\n",
       " 29: 'LESSEQUAL',\n",
       " 30: 'GREATEREQUAL',\n",
       " 31: 'TILDE',\n",
       " 32: 'CIRCUMFLEX',\n",
       " 33: 'LEFTSHIFT',\n",
       " 34: 'RIGHTSHIFT',\n",
       " 35: 'DOUBLESTAR',\n",
       " 36: 'PLUSEQUAL',\n",
       " 37: 'MINEQUAL',\n",
       " 38: 'STAREQUAL',\n",
       " 39: 'SLASHEQUAL',\n",
       " 40: 'PERCENTEQUAL',\n",
       " 41: 'AMPEREQUAL',\n",
       " 42: 'VBAREQUAL',\n",
       " 43: 'CIRCUMFLEXEQUAL',\n",
       " 44: 'LEFTSHIFTEQUAL',\n",
       " 45: 'RIGHTSHIFTEQUAL',\n",
       " 46: 'DOUBLESTAREQUAL',\n",
       " 47: 'DOUBLESLASH',\n",
       " 48: 'DOUBLESLASHEQUAL',\n",
       " 49: 'AT',\n",
       " 50: 'ATEQUAL',\n",
       " 51: 'RARROW',\n",
       " 52: 'ELLIPSIS',\n",
       " 53: 'OP',\n",
       " 54: 'AWAIT',\n",
       " 55: 'ASYNC',\n",
       " 56: 'ERRORTOKEN',\n",
       " 57: 'COMMENT',\n",
       " 256: 'NT_OFFSET',\n",
       " 58: 'NL',\n",
       " 59: 'BACKQUOTE',\n",
       " 60: 'ERROR_DEDENT',\n",
       " 61: 'FSTRING_START',\n",
       " 62: 'FSTRING_END',\n",
       " 63: 'FSTRING_STRING',\n",
       " 64: 'EXCLAMATION'}"
      ]
     },
     "execution_count": 8,
     "metadata": {},
     "output_type": "execute_result"
    }
   ],
   "source": [
    "import token\n",
    "token.tok_name"
   ]
  },
  {
   "cell_type": "code",
   "execution_count": 13,
   "metadata": {},
   "outputs": [
    {
     "ename": "NameError",
     "evalue": "name 'tokenize' is not defined",
     "output_type": "error",
     "traceback": [
      "\u001b[0;31m---------------------------------------------------------------------------\u001b[0m",
      "\u001b[0;31mNameError\u001b[0m                                 Traceback (most recent call last)",
      "\u001b[0;32m<ipython-input-13-c09b2fcfca05>\u001b[0m in \u001b[0;36m<module>\u001b[0;34m()\u001b[0m\n\u001b[1;32m      1\u001b[0m \u001b[0;31m# Lexer를 통해 token으로 쪼갬\u001b[0m\u001b[0;34m\u001b[0m\u001b[0;34m\u001b[0m\u001b[0m\n\u001b[1;32m      2\u001b[0m \u001b[0;32mfrom\u001b[0m \u001b[0mio\u001b[0m \u001b[0;32mimport\u001b[0m \u001b[0mBytesIO\u001b[0m\u001b[0;34m\u001b[0m\u001b[0m\n\u001b[0;32m----> 3\u001b[0;31m \u001b[0mg\u001b[0m\u001b[0;34m=\u001b[0m\u001b[0mtokenize\u001b[0m\u001b[0;34m.\u001b[0m\u001b[0mtokenize\u001b[0m\u001b[0;34m(\u001b[0m\u001b[0mBytesIO\u001b[0m\u001b[0;34m(\u001b[0m\u001b[0ms\u001b[0m\u001b[0;34m.\u001b[0m\u001b[0mencode\u001b[0m\u001b[0;34m(\u001b[0m\u001b[0;34m'utf-8'\u001b[0m\u001b[0;34m)\u001b[0m\u001b[0;34m)\u001b[0m\u001b[0;34m.\u001b[0m\u001b[0mreadline\u001b[0m\u001b[0;34m)\u001b[0m\u001b[0;34m\u001b[0m\u001b[0m\n\u001b[0m",
      "\u001b[0;31mNameError\u001b[0m: name 'tokenize' is not defined"
     ]
    }
   ],
   "source": [
    "# Lexer를 통해 token으로 쪼갬\n",
    "from io import BytesIO\n",
    "g=tokenize.tokenize(BytesIO(s.encode('utf-8')).readline)"
   ]
  },
  {
   "cell_type": "code",
   "execution_count": 14,
   "metadata": {},
   "outputs": [
    {
     "ename": "NameError",
     "evalue": "name 'g' is not defined",
     "output_type": "error",
     "traceback": [
      "\u001b[0;31m---------------------------------------------------------------------------\u001b[0m",
      "\u001b[0;31mNameError\u001b[0m                                 Traceback (most recent call last)",
      "\u001b[0;32m<ipython-input-14-e734f8aca5ac>\u001b[0m in \u001b[0;36m<module>\u001b[0;34m()\u001b[0m\n\u001b[0;32m----> 1\u001b[0;31m \u001b[0mnext\u001b[0m\u001b[0;34m(\u001b[0m\u001b[0mg\u001b[0m\u001b[0;34m)\u001b[0m\u001b[0;34m\u001b[0m\u001b[0m\n\u001b[0m",
      "\u001b[0;31mNameError\u001b[0m: name 'g' is not defined"
     ]
    }
   ],
   "source": [
    "next(g)"
   ]
  },
  {
   "cell_type": "code",
   "execution_count": null,
   "metadata": {},
   "outputs": [],
   "source": [
    "for token in g:\n",
    "    print(token)"
   ]
  },
  {
   "cell_type": "markdown",
   "metadata": {},
   "source": [
    "## AST(Abstract Syntax Tree)"
   ]
  },
  {
   "cell_type": "code",
   "execution_count": null,
   "metadata": {},
   "outputs": [],
   "source": [
    "# 토큰으로 뽑은걸 트리 구조로 만들어줌\n",
    "import ast\n",
    "node=ast.parse(s,'fc_4_1/test.py','exec')"
   ]
  },
  {
   "cell_type": "code",
   "execution_count": null,
   "metadata": {},
   "outputs": [],
   "source": [
    "for node in g:\n",
    "    print(node)"
   ]
  },
  {
   "cell_type": "markdown",
   "metadata": {},
   "source": [
    "## Symtable"
   ]
  },
  {
   "cell_type": "code",
   "execution_count": 15,
   "metadata": {},
   "outputs": [
    {
     "data": {
      "text/plain": [
       "'top'"
      ]
     },
     "execution_count": 15,
     "metadata": {},
     "output_type": "execute_result"
    }
   ],
   "source": [
    "# 변수와 함수를 모아서 기술한 테이블\n",
    "import symtable\n",
    "sym=symtable.symtable(s,'fc_4_1/test.py','exec')\n",
    "sym.get_name()"
   ]
  },
  {
   "cell_type": "code",
   "execution_count": 16,
   "metadata": {},
   "outputs": [
    {
     "data": {
      "text/plain": [
       "[<symbol 'func'>, <symbol 'a'>, <symbol 'b'>, <symbol 'c'>, <symbol 'print'>]"
      ]
     },
     "execution_count": 16,
     "metadata": {},
     "output_type": "execute_result"
    }
   ],
   "source": [
    "sym.get_symbols()"
   ]
  },
  {
   "cell_type": "code",
   "execution_count": 17,
   "metadata": {},
   "outputs": [
    {
     "data": {
      "text/plain": [
       "True"
      ]
     },
     "execution_count": 17,
     "metadata": {},
     "output_type": "execute_result"
    }
   ],
   "source": [
    "sym.has_children()"
   ]
  },
  {
   "cell_type": "code",
   "execution_count": 18,
   "metadata": {},
   "outputs": [
    {
     "data": {
      "text/plain": [
       "[<Function SymbolTable for func in fc_4_1/test.py>]"
      ]
     },
     "execution_count": 18,
     "metadata": {},
     "output_type": "execute_result"
    }
   ],
   "source": [
    "sym.get_children()"
   ]
  },
  {
   "cell_type": "code",
   "execution_count": 19,
   "metadata": {},
   "outputs": [],
   "source": [
    "func_sym=sym.get_children()[0]"
   ]
  },
  {
   "cell_type": "code",
   "execution_count": 24,
   "metadata": {},
   "outputs": [
    {
     "data": {
      "text/plain": [
       "<Function SymbolTable for func in fc_4_1/test.py>"
      ]
     },
     "execution_count": 24,
     "metadata": {},
     "output_type": "execute_result"
    }
   ],
   "source": [
    "func_sym"
   ]
  },
  {
   "cell_type": "code",
   "execution_count": 25,
   "metadata": {},
   "outputs": [
    {
     "data": {
      "text/plain": [
       "[<symbol 'a'>, <symbol 'b'>]"
      ]
     },
     "execution_count": 25,
     "metadata": {},
     "output_type": "execute_result"
    }
   ],
   "source": [
    "func_sym.get_symbols()"
   ]
  },
  {
   "cell_type": "markdown",
   "metadata": {},
   "source": [
    "## Python : source code -> bytecode"
   ]
  },
  {
   "cell_type": "code",
   "execution_count": 21,
   "metadata": {},
   "outputs": [
    {
     "name": "stdout",
     "output_type": "stream",
     "text": [
      "  1           0 LOAD_CONST               0 (<code object func at 0x102d9c6f0, file \"<dis>\", line 1>)\n",
      "              2 LOAD_CONST               1 ('func')\n",
      "              4 MAKE_FUNCTION            0\n",
      "              6 STORE_NAME               0 (func)\n",
      "\n",
      "  4           8 LOAD_CONST               2 (10)\n",
      "             10 STORE_NAME               1 (a)\n",
      "\n",
      "  5          12 LOAD_CONST               3 (20)\n",
      "             14 STORE_NAME               2 (b)\n",
      "\n",
      "  6          16 LOAD_NAME                0 (func)\n",
      "             18 LOAD_NAME                1 (a)\n",
      "             20 LOAD_NAME                2 (b)\n",
      "             22 CALL_FUNCTION            2\n",
      "             24 STORE_NAME               3 (c)\n",
      "\n",
      "  7          26 LOAD_NAME                4 (print)\n",
      "             28 LOAD_NAME                3 (c)\n",
      "             30 CALL_FUNCTION            1\n",
      "             32 POP_TOP\n",
      "             34 LOAD_CONST               4 (None)\n",
      "             36 RETURN_VALUE\n"
     ]
    }
   ],
   "source": [
    "import dis # disassemble\n",
    "dis.dis(s)"
   ]
  },
  {
   "cell_type": "code",
   "execution_count": 22,
   "metadata": {},
   "outputs": [
    {
     "data": {
      "text/plain": [
       "(<code object func at 0x102e3b270, file \"fc_4_1/test.py\", line 1>,\n",
       " 'func',\n",
       " 10,\n",
       " 20,\n",
       " None)"
      ]
     },
     "execution_count": 22,
     "metadata": {},
     "output_type": "execute_result"
    }
   ],
   "source": [
    "code.co_consts"
   ]
  },
  {
   "cell_type": "code",
   "execution_count": 23,
   "metadata": {},
   "outputs": [],
   "source": [
    "# bytecode 는 왜 만드나? 자바나 파이썬 처럼 \n",
    "#     -> 머신코드를 만들지 않고 이미 있는 머신코드를 실행 하기만 하면 됨\n",
    "# c 의 경우 컴파일러나 어셈블리를 통해 머신코드를 만듬"
   ]
  },
  {
   "cell_type": "markdown",
   "metadata": {},
   "source": [
    "## 알고리즘"
   ]
  },
  {
   "cell_type": "code",
   "execution_count": 30,
   "metadata": {},
   "outputs": [],
   "source": [
    "# 같은 기능을 하는 알고리즘이라도 성능이 얼마나 다를 수 있는지\n",
    "# 그 성능 차이를 객관적으로 나타낼 수 있는 지표 big O\n",
    "# Linear search, binary search\n",
    "# 알고리즘 성능 평가시 최악의 경우 몇번의 연산(비교)을 하는가? best case <-> worst case\n",
    "# 대부분 알고리즘 성능 평가는 최악의 경우를 가지고 평가함"
   ]
  },
  {
   "cell_type": "code",
   "execution_count": 32,
   "metadata": {},
   "outputs": [
    {
     "data": {
      "text/plain": [
       "3"
      ]
     },
     "execution_count": 32,
     "metadata": {},
     "output_type": "execute_result"
    }
   ],
   "source": [
    "# Linear search\n",
    "# 데이타갯수가 N 개 일때 비교연산횟수는 N 번한다 T(n)=n\n",
    "li=[5,6,1,4,3] # 5를 한방에 찾을때 best case <-> worst case\n",
    "def linear_search(li, target):\n",
    "    for idx in range(len(li)):\n",
    "        if target==li[idx]:\n",
    "            return idx\n",
    "linear_search(li,4)"
   ]
  },
  {
   "cell_type": "code",
   "execution_count": 53,
   "metadata": {},
   "outputs": [
    {
     "name": "stdout",
     "output_type": "stream",
     "text": [
      "0 : 1 : 3 : 3 : 6\n",
      "2 : 2 : 3 : 6 : 6\n",
      "2\n",
      "target의 인덱스는 : 2\n"
     ]
    }
   ],
   "source": [
    "# binary search : 이진으로 줄인다는 의미\n",
    "# T(n) = log2 n : 데이타가 많을 수록 Linear search 와 차이 많이 남\n",
    "# 조건1 : 반드시 정렬된 데이타가 인자로 들어와야함 -> li.sort() X\n",
    "# 조건2 : [1,2,3,4,5,6,7] -> start=0, end=len(li)-1\n",
    "# 조건3 : while문 start 가 end 보다 크거나 같을때 까지\n",
    "# 중간값을 구하고 인덱스로 인식하고 타겟값과 비교함\n",
    "# start값과 end 값을 이동하여 구현함\n",
    "\n",
    "def binary_search(li, target):\n",
    "    start=0\n",
    "    end=len(li)-1\n",
    "#     mid=int(end/2)\n",
    "    while start <= end:\n",
    "        \n",
    "        \n",
    "#         if li[mid] < target: # 6 < 8\n",
    "#             mid=start\n",
    "#         elif li[mid] > target: # 6 > 8\n",
    "#             mid=end\n",
    "#         else:\n",
    "#             return target\n",
    "        \n",
    "        mid=(start+end)//2\n",
    "        \n",
    "        print('{} : {} : {} : {} : {}'.format(start,mid,end,li[mid],target))\n",
    "        \n",
    "        if li[mid]==target:\n",
    "            return mid\n",
    "        elif li[mid] > target:\n",
    "            end=mid-1\n",
    "        else:\n",
    "            start=mid+1        \n",
    "    return None\n",
    "\n",
    "\n",
    "li=[1,3,6,8]\n",
    "res=binary_search(li,6)\n",
    "print(res)\n",
    "if res:\n",
    "    print('target의 인덱스는 : {}'.format(res))\n",
    "else:\n",
    "    print('==')"
   ]
  },
  {
   "cell_type": "markdown",
   "metadata": {},
   "source": [
    "## big O"
   ]
  },
  {
   "cell_type": "code",
   "execution_count": 54,
   "metadata": {},
   "outputs": [],
   "source": [
    "# 데이타의 갯수가 늘어날때 연산횟수의 증가율을 표현 -> O : order -> big O\n",
    "# big O -> 상대시간 비교 : 맹신하면 안됨 (하드디스크 vs 램) -> 반드시 벤치마킹이 필요함\n",
    "#     절대시간비교 : 이 알고리즘은 5초 이내에 실행된다\n",
    "#     상대시간비교 : 이 알고리즘은 데이터 갯수가 늘어날때 연산횟수가 O(n)를 보장한다"
   ]
  },
  {
   "cell_type": "markdown",
   "metadata": {},
   "source": [
    "## recursion (재귀)"
   ]
  },
  {
   "cell_type": "code",
   "execution_count": 65,
   "metadata": {},
   "outputs": [],
   "source": [
    "# 재귀 : 함수 정의를 할 때 자기 자신의 호출 코드\n",
    "#         반드시 탈출 조건을 포함해야 한다\n",
    "def func(n):\n",
    "    # base case -> 기저 조건\n",
    "    # 탈출 조건 (재귀를 탈출하는 조건)\n",
    "    if n==0:\n",
    "        return\n",
    "    func(n-1)\n",
    "\n",
    "func(5) # 스택프래임으로 생각해 볼것 !!!!!!! 재귀때마다 스택프래임이 쌓임 -> 블로킹이 걸려있음(함수가멈춰있음)"
   ]
  },
  {
   "cell_type": "markdown",
   "metadata": {},
   "source": [
    "## factorial : 대표적 재귀함수 ex) 5! = 5*4*3*2*1"
   ]
  },
  {
   "cell_type": "code",
   "execution_count": 66,
   "metadata": {},
   "outputs": [
    {
     "name": "stdout",
     "output_type": "stream",
     "text": [
      "1 2 6 24 120 "
     ]
    }
   ],
   "source": [
    "# base case -> n<=1 -> 1\n",
    "def factorial(n):\n",
    "    #탈출조건\n",
    "    if n<=1:\n",
    "        return 1\n",
    "    return n * factorial(n-1)\n",
    "\n",
    "for i in range(1,6):\n",
    "    print(factorial(i), end=' ')"
   ]
  },
  {
   "cell_type": "markdown",
   "metadata": {},
   "source": [
    "## fibonacci"
   ]
  },
  {
   "cell_type": "code",
   "execution_count": 64,
   "metadata": {},
   "outputs": [
    {
     "name": "stdout",
     "output_type": "stream",
     "text": [
      "21\n",
      "0 1 1 2 3 5 8 13 21 34 "
     ]
    }
   ],
   "source": [
    "# N번째수 -> (n-1) 번째수 + (n-2) 번째수 : 자기호출식\n",
    "# 탈출조건 n==1:->0, n==2:->1\n",
    "def fibonacci(n):\n",
    "    \"\"\"\n",
    "    N번쨰\n",
    "    \"\"\"\n",
    "    if n==1:\n",
    "        return 0\n",
    "    elif n==2:\n",
    "        return 1\n",
    "    return fibonacci(n-1)+fibonacci(n-2)\n",
    "\n",
    "res=fibonacci(9)\n",
    "print(res)\n",
    "\n",
    "for i in range(1,11):\n",
    "    print(fibonacci(i), end=' ')"
   ]
  },
  {
   "cell_type": "markdown",
   "metadata": {},
   "source": [
    "## Hanoi tower"
   ]
  },
  {
   "cell_type": "code",
   "execution_count": 67,
   "metadata": {},
   "outputs": [
    {
     "name": "stdout",
     "output_type": "stream",
     "text": [
      "1번쨰 원반을 A에서 C로 이동\n",
      "1번쨰 원반을 A에서 B로 이동\n",
      "2번쨰 원반을 A에서 C로 이동\n",
      "1번쨰 원반을 B에서 C로 이동\n"
     ]
    }
   ],
   "source": [
    "def hanoi(num_tray,_from,_by,_to):\n",
    "    if num_tray==1:\n",
    "        print('{}번쨰 원반을 {}에서 {}로 이동'.format(num_tray,_from,_to))\n",
    "        return\n",
    "    hanoi(num_tray-1,_from,_to,_by)\n",
    "    print('{}번쨰 원반을 {}에서 {}로 이동'.format(num_tray,_from,_to))\n",
    "    hanoi(num_tray-1,_by,_from,_to)\n",
    "\n",
    "hanoi(1,'A','B','C')\n",
    "# -> 1번쨰 원반을 A에서 C로 이동\n",
    "hanoi(2,'A','B','C')\n",
    "# -> 1번째 원반을 A에서 B로 이동\n",
    "# -> 2번째 원반을 A에서 C로 이동\n",
    "# -> 3번째 원반을 B에서 C로 이동"
   ]
  },
  {
   "cell_type": "code",
   "execution_count": null,
   "metadata": {},
   "outputs": [],
   "source": []
  },
  {
   "cell_type": "code",
   "execution_count": null,
   "metadata": {},
   "outputs": [],
   "source": []
  },
  {
   "cell_type": "code",
   "execution_count": null,
   "metadata": {},
   "outputs": [],
   "source": []
  },
  {
   "cell_type": "code",
   "execution_count": null,
   "metadata": {},
   "outputs": [],
   "source": []
  },
  {
   "cell_type": "code",
   "execution_count": null,
   "metadata": {},
   "outputs": [],
   "source": []
  }
 ],
 "metadata": {
  "kernelspec": {
   "display_name": "Python 3",
   "language": "python",
   "name": "python3"
  },
  "language_info": {
   "codemirror_mode": {
    "name": "ipython",
    "version": 3
   },
   "file_extension": ".py",
   "mimetype": "text/x-python",
   "name": "python",
   "nbconvert_exporter": "python",
   "pygments_lexer": "ipython3",
   "version": "3.6.5"
  }
 },
 "nbformat": 4,
 "nbformat_minor": 2
}
